{
 "cells": [
  {
   "cell_type": "markdown",
   "metadata": {},
   "source": [
    "# MLP w TensorFlow\n",
    "\n"
   ]
  },
  {
   "cell_type": "code",
   "execution_count": 1,
   "metadata": {},
   "outputs": [
    {
     "name": "stderr",
     "output_type": "stream",
     "text": [
      "C:\\Users\\admin\\Anaconda3\\lib\\site-packages\\h5py\\__init__.py:34: FutureWarning: Conversion of the second argument of issubdtype from `float` to `np.floating` is deprecated. In future, it will be treated as `np.float64 == np.dtype(float).type`.\n",
      "  from ._conv import register_converters as _register_converters\n"
     ]
    }
   ],
   "source": [
    "import tensorflow as tf\n",
    "import numpy as np\n",
    "import matplotlib.pyplot as plt"
   ]
  },
  {
   "cell_type": "markdown",
   "metadata": {},
   "source": [
    "# Zad.\n",
    "Użyj funkcji aktywacji:\n",
    "```python\n",
    "f.nn.elu\n",
    "```"
   ]
  },
  {
   "cell_type": "code",
   "execution_count": 3,
   "metadata": {
    "collapsed": true
   },
   "outputs": [],
   "source": [
    "n_inputs = 28*28 # MNIST\n",
    "n_hidden1 = 300\n",
    "n_hidden2 = 100\n",
    "n_outputs = 10"
   ]
  },
  {
   "cell_type": "code",
   "execution_count": 5,
   "metadata": {},
   "outputs": [],
   "source": [
    "tf.reset_default_graph()\n",
    "X = tf.placeholder(tf.float32, shape=(None, n_inputs), name=\"X\")\n",
    "y = tf.placeholder(tf.int64, shape=(None), name=\"y\")\n",
    "\n",
    "he_init = tf.contrib.layers.variance_scaling_initializer()\n",
    "\n",
    "with tf.name_scope(\"dnn\"):\n",
    "    hidden1 = tf.layers.dense(X, n_hidden1, name=\"hidden1\", activation=tf.nn.elu, kernel_initializer=he_init)\n",
    "    hidden2 = tf.layers.dense(hidden1, n_hidden2, name=\"hidden2\", activation=tf.nn.elu, kernel_initializer=he_init)\n",
    "    logits = tf.layers.dense(hidden2, n_outputs, name=\"outputs\")      "
   ]
  },
  {
   "cell_type": "code",
   "execution_count": 6,
   "metadata": {
    "collapsed": true
   },
   "outputs": [],
   "source": [
    "with tf.name_scope(\"loss\"):\n",
    "    xentropy = tf.nn.softmax_cross_entropy_with_logits(labels=y, logits=logits)\n",
    "    loss = tf.reduce_mean(xentropy, name=\"loss\") "
   ]
  },
  {
   "cell_type": "code",
   "execution_count": 7,
   "metadata": {
    "collapsed": true
   },
   "outputs": [],
   "source": [
    "learning_rate = 0.01\n",
    "\n",
    "with tf.name_scope(\"train\"):\n",
    "    optimizer = tf.train.GradientDescentOptimizer(learning_rate)\n",
    "    training_op = optimizer.minimize(loss)  "
   ]
  },
  {
   "cell_type": "code",
   "execution_count": 8,
   "metadata": {
    "collapsed": true
   },
   "outputs": [],
   "source": [
    "with tf.name_scope(\"eval\"):\n",
    "    correct = tf.nn.in_top_k(logits, tf.argmax(y, 1), 1)\n",
    "    accuracy = tf.reduce_mean(tf.cast(correct, tf.float32))   "
   ]
  },
  {
   "cell_type": "code",
   "execution_count": 9,
   "metadata": {
    "collapsed": true
   },
   "outputs": [],
   "source": [
    "init = tf.global_variables_initializer()\n",
    "saver = tf.train.Saver()"
   ]
  },
  {
   "cell_type": "code",
   "execution_count": 10,
   "metadata": {},
   "outputs": [
    {
     "name": "stdout",
     "output_type": "stream",
     "text": [
      "Extracting MNIST_data/train-images-idx3-ubyte.gz\n",
      "Extracting MNIST_data/train-labels-idx1-ubyte.gz\n",
      "Extracting MNIST_data/t10k-images-idx3-ubyte.gz\n",
      "Extracting MNIST_data/t10k-labels-idx1-ubyte.gz\n"
     ]
    }
   ],
   "source": [
    "from tensorflow.examples.tutorials.mnist import input_data\n",
    "mnist = input_data.read_data_sets(\"MNIST_data/\", one_hot=True)"
   ]
  },
  {
   "cell_type": "code",
   "execution_count": 11,
   "metadata": {
    "collapsed": true
   },
   "outputs": [],
   "source": [
    "n_epochs = 100\n",
    "batch_size = 64"
   ]
  },
  {
   "cell_type": "code",
   "execution_count": 12,
   "metadata": {},
   "outputs": [
    {
     "name": "stdout",
     "output_type": "stream",
     "text": [
      "99%  0 Train accuracy: 0.96875 Test accuracy: 0.8989\n",
      "99%  1 Train accuracy: 0.90625 Test accuracy: 0.912\n",
      "99%  2 Train accuracy: 0.921875 Test accuracy: 0.919\n",
      "99%  3 Train accuracy: 0.96875 Test accuracy: 0.9261\n",
      "99%  4 Train accuracy: 1.0 Test accuracy: 0.9289\n",
      "99%  5 Train accuracy: 0.953125 Test accuracy: 0.9329\n",
      "99%  6 Train accuracy: 0.890625 Test accuracy: 0.935\n",
      "99%  7 Train accuracy: 0.921875 Test accuracy: 0.9396\n",
      "99%  8 Train accuracy: 0.984375 Test accuracy: 0.9408\n",
      "99%  9 Train accuracy: 0.984375 Test accuracy: 0.9434\n",
      "99%  10 Train accuracy: 0.984375 Test accuracy: 0.944\n",
      "99%  11 Train accuracy: 0.9375 Test accuracy: 0.9478\n",
      "99%  12 Train accuracy: 0.96875 Test accuracy: 0.9489\n",
      "99%  13 Train accuracy: 0.96875 Test accuracy: 0.9519\n",
      "99%  14 Train accuracy: 0.953125 Test accuracy: 0.9532\n",
      "99%  15 Train accuracy: 0.921875 Test accuracy: 0.9551\n",
      "99%  16 Train accuracy: 0.984375 Test accuracy: 0.9564\n",
      "99%  17 Train accuracy: 0.96875 Test accuracy: 0.958\n",
      "99%  18 Train accuracy: 0.96875 Test accuracy: 0.9585\n",
      "99%  19 Train accuracy: 0.953125 Test accuracy: 0.9603\n",
      "99%  20 Train accuracy: 1.0 Test accuracy: 0.961\n",
      "99%  21 Train accuracy: 0.9375 Test accuracy: 0.9629\n",
      "99%  22 Train accuracy: 0.984375 Test accuracy: 0.9639\n",
      "99%  23 Train accuracy: 0.984375 Test accuracy: 0.9626\n",
      "99%  24 Train accuracy: 0.984375 Test accuracy: 0.9643\n",
      "99%  25 Train accuracy: 0.953125 Test accuracy: 0.965\n",
      "99%  26 Train accuracy: 0.96875 Test accuracy: 0.9654\n",
      "99%  27 Train accuracy: 0.953125 Test accuracy: 0.9657\n",
      "99%  28 Train accuracy: 0.984375 Test accuracy: 0.965\n",
      "99%  29 Train accuracy: 0.96875 Test accuracy: 0.9676\n",
      "99%  30 Train accuracy: 0.9375 Test accuracy: 0.967\n",
      "99%  31 Train accuracy: 0.984375 Test accuracy: 0.9684\n",
      "99%  32 Train accuracy: 0.984375 Test accuracy: 0.9687\n",
      "99%  33 Train accuracy: 0.984375 Test accuracy: 0.9697\n",
      "99%  34 Train accuracy: 0.984375 Test accuracy: 0.9692\n",
      "99%  35 Train accuracy: 0.984375 Test accuracy: 0.9706\n",
      "99%  36 Train accuracy: 0.984375 Test accuracy: 0.9698\n",
      "99%  37 Train accuracy: 0.984375 Test accuracy: 0.9703\n",
      "99%  38 Train accuracy: 0.984375 Test accuracy: 0.9712\n",
      "99%  39 Train accuracy: 0.984375 Test accuracy: 0.9714\n",
      "99%  40 Train accuracy: 0.96875 Test accuracy: 0.9728\n",
      "99%  41 Train accuracy: 0.96875 Test accuracy: 0.9717\n",
      "99%  42 Train accuracy: 0.96875 Test accuracy: 0.9719\n",
      "99%  43 Train accuracy: 1.0 Test accuracy: 0.9737\n",
      "99%  44 Train accuracy: 1.0 Test accuracy: 0.9728\n",
      "99%  45 Train accuracy: 0.96875 Test accuracy: 0.9723\n",
      "99%  46 Train accuracy: 0.984375 Test accuracy: 0.9739\n",
      "99%  47 Train accuracy: 0.984375 Test accuracy: 0.9729\n",
      "99%  48 Train accuracy: 0.96875 Test accuracy: 0.9736\n",
      "99%  49 Train accuracy: 0.953125 Test accuracy: 0.9746\n",
      "99%  50 Train accuracy: 1.0 Test accuracy: 0.9741\n",
      "99%  51 Train accuracy: 0.984375 Test accuracy: 0.9744\n",
      "99%  52 Train accuracy: 0.96875 Test accuracy: 0.9748\n",
      "99%  53 Train accuracy: 0.984375 Test accuracy: 0.9751\n",
      "99%  54 Train accuracy: 1.0 Test accuracy: 0.9748\n",
      "99%  55 Train accuracy: 0.984375 Test accuracy: 0.9746\n",
      "99%  56 Train accuracy: 1.0 Test accuracy: 0.9749\n",
      "99%  57 Train accuracy: 0.984375 Test accuracy: 0.9748\n",
      "99%  58 Train accuracy: 1.0 Test accuracy: 0.9757\n",
      "99%  59 Train accuracy: 0.984375 Test accuracy: 0.9748\n",
      "99%  60 Train accuracy: 0.96875 Test accuracy: 0.9754\n",
      "99%  61 Train accuracy: 0.984375 Test accuracy: 0.9744\n",
      "99%  62 Train accuracy: 0.984375 Test accuracy: 0.9757\n",
      "99%  63 Train accuracy: 0.96875 Test accuracy: 0.9749\n",
      "99%  64 Train accuracy: 0.96875 Test accuracy: 0.9745\n",
      "99%  65 Train accuracy: 1.0 Test accuracy: 0.9761\n",
      "99%  66 Train accuracy: 1.0 Test accuracy: 0.9754\n",
      "99%  67 Train accuracy: 1.0 Test accuracy: 0.9761\n",
      "99%  68 Train accuracy: 0.984375 Test accuracy: 0.977\n",
      "99%  69 Train accuracy: 1.0 Test accuracy: 0.9763\n",
      "99%  70 Train accuracy: 1.0 Test accuracy: 0.9759\n",
      "99%  71 Train accuracy: 1.0 Test accuracy: 0.9757\n",
      "99%  72 Train accuracy: 0.984375 Test accuracy: 0.9768\n",
      "99%  73 Train accuracy: 1.0 Test accuracy: 0.9764\n",
      "99%  74 Train accuracy: 1.0 Test accuracy: 0.9766\n",
      "99%  75 Train accuracy: 1.0 Test accuracy: 0.9767\n",
      "99%  76 Train accuracy: 0.984375 Test accuracy: 0.9767\n",
      "99%  77 Train accuracy: 0.96875 Test accuracy: 0.9774\n",
      "99%  78 Train accuracy: 1.0 Test accuracy: 0.9754\n",
      "99%  79 Train accuracy: 1.0 Test accuracy: 0.9772\n",
      "99%  80 Train accuracy: 0.984375 Test accuracy: 0.9769\n",
      "99%  81 Train accuracy: 0.984375 Test accuracy: 0.9769\n",
      "99%  82 Train accuracy: 1.0 Test accuracy: 0.9776\n",
      "99%  83 Train accuracy: 1.0 Test accuracy: 0.9777\n",
      "99%  84 Train accuracy: 0.984375 Test accuracy: 0.9774\n",
      "99%  85 Train accuracy: 1.0 Test accuracy: 0.9775\n",
      "99%  86 Train accuracy: 0.96875 Test accuracy: 0.9772\n",
      "99%  87 Train accuracy: 1.0 Test accuracy: 0.9783\n",
      "99%  88 Train accuracy: 1.0 Test accuracy: 0.9777\n",
      "99%  89 Train accuracy: 1.0 Test accuracy: 0.9767\n",
      "99%  90 Train accuracy: 1.0 Test accuracy: 0.9779\n",
      "99%  91 Train accuracy: 1.0 Test accuracy: 0.9771\n",
      "99%  92 Train accuracy: 1.0 Test accuracy: 0.9769\n",
      "99%  93 Train accuracy: 1.0 Test accuracy: 0.9772\n",
      "99%  94 Train accuracy: 1.0 Test accuracy: 0.9778\n",
      "99%  95 Train accuracy: 0.96875 Test accuracy: 0.9781\n",
      "99%  96 Train accuracy: 1.0 Test accuracy: 0.9778\n",
      "99%  97 Train accuracy: 0.984375 Test accuracy: 0.9786\n",
      "99%  98 Train accuracy: 1.0 Test accuracy: 0.9777\n",
      "99%  99 Train accuracy: 1.0 Test accuracy: 0.9782\n"
     ]
    }
   ],
   "source": [
    "with tf.Session() as sess:\n",
    "    sess.run(init)\n",
    "    for epoch in range(n_epochs):\n",
    "        for batch_index in range(mnist.train.num_examples // batch_size):\n",
    "            print(\"\\r{}%\".format(100 * batch_index //  (mnist.train.num_examples // batch_size) ), end=\"\")\n",
    "            X_batch, y_batch = mnist.train.next_batch(batch_size)\n",
    "            sess.run(training_op, feed_dict={X: X_batch, y: y_batch})\n",
    "        acc_train = accuracy.eval(feed_dict={X: X_batch, y: y_batch})\n",
    "        acc_test = accuracy.eval(feed_dict={X: mnist.test.images, y: mnist.test.labels})\n",
    "        print(\" \", epoch, \"Train accuracy:\", acc_train, \"Test accuracy:\", acc_test)    \n",
    "        \n",
    "    #save_path = saver.save(sess, \"./MNIST_MLP/my_model_final_one_hot.ckpt\")   "
   ]
  },
  {
   "cell_type": "code",
   "execution_count": 13,
   "metadata": {},
   "outputs": [
    {
     "name": "stdout",
     "output_type": "stream",
     "text": [
      "INFO:tensorflow:Restoring parameters from ./MNIST_MLP/my_model_final_one_hot.ckpt\n",
      "True label  [[1. 0. 0. 0. 0. 0. 0. 0. 0. 0.]]\n",
      "Predicted label  [0]\n"
     ]
    }
   ],
   "source": [
    "with tf.Session() as sess:\n",
    "    saver.restore(sess, \"./MNIST_MLP/my_model_final_one_hot.ckpt\") \n",
    "    X_new_scaled, y_true = mnist.train.next_batch(1) # some new images (scaled from 0 to 1)\n",
    "    Z = logits.eval(feed_dict={X: X_new_scaled})\n",
    "    y_pred = np.argmax(Z, axis=1)\n",
    "print(\"True label \", y_true)\n",
    "print(\"Predicted label \", y_pred)"
   ]
  },
  {
   "cell_type": "code",
   "execution_count": null,
   "metadata": {
    "collapsed": true
   },
   "outputs": [],
   "source": []
  },
  {
   "cell_type": "code",
   "execution_count": null,
   "metadata": {
    "collapsed": true
   },
   "outputs": [],
   "source": []
  }
 ],
 "metadata": {
  "kernelspec": {
   "display_name": "Python 3",
   "language": "python",
   "name": "python3"
  },
  "language_info": {
   "codemirror_mode": {
    "name": "ipython",
    "version": 3
   },
   "file_extension": ".py",
   "mimetype": "text/x-python",
   "name": "python",
   "nbconvert_exporter": "python",
   "pygments_lexer": "ipython3",
   "version": "3.6.3"
  }
 },
 "nbformat": 4,
 "nbformat_minor": 2
}
