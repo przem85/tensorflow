{
 "cells": [
  {
   "cell_type": "code",
   "execution_count": 2,
   "metadata": {},
   "outputs": [
    {
     "name": "stderr",
     "output_type": "stream",
     "text": [
      "C:\\Users\\admin\\Anaconda3\\lib\\site-packages\\h5py\\__init__.py:34: FutureWarning: Conversion of the second argument of issubdtype from `float` to `np.floating` is deprecated. In future, it will be treated as `np.float64 == np.dtype(float).type`.\n",
      "  from ._conv import register_converters as _register_converters\n"
     ]
    }
   ],
   "source": [
    "import tensorflow as tf\n",
    "import numpy as np\n",
    "import sklearn.datasets\n",
    "import matplotlib.pyplot as plt"
   ]
  },
  {
   "cell_type": "markdown",
   "metadata": {},
   "source": [
    "# Zad.\n",
    "\n",
    "Użyj funkcji aktywacji:\n",
    "```python\n",
    "f.nn.elu\n",
    "```"
   ]
  },
  {
   "cell_type": "code",
   "execution_count": 3,
   "metadata": {},
   "outputs": [
    {
     "data": {
      "image/png": "[encoded data removed]",
      "text/plain": [
       "<matplotlib.figure.Figure at 0x2c4042ce48>"
      ]
     },
     "metadata": {},
     "output_type": "display_data"
    }
   ],
   "source": [
    "data_X, data_y = sklearn.datasets.make_moons(n_samples=1000, noise=.05)\n",
    "\n",
    "\n",
    "\n",
    "plt.scatter(data_X[:,0],data_X[:,1],c=data_y)\n",
    "plt.axis('equal')\n",
    "plt.show()"
   ]
  },
  {
   "cell_type": "code",
   "execution_count": 4,
   "metadata": {
    "collapsed": true
   },
   "outputs": [],
   "source": [
    "\n",
    "tf.reset_default_graph()\n",
    "\n",
    "n_inputs = 2\n",
    "n_hidden1 = 100\n",
    "n_hidden2 = 100\n",
    "n_outputs = 2\n",
    "\n",
    "X = tf.placeholder(tf.float32, shape=(None, n_inputs), name=\"X\")\n",
    "y = tf.placeholder(tf.int64, shape=(None), name=\"y\")\n",
    "\n",
    "he_init = tf.contrib.layers.variance_scaling_initializer()\n",
    "\n",
    "with tf.name_scope(\"dnn\"):\n",
    "    hidden1 = tf.layers.dense(X, n_hidden1, name=\"hidden1\", activation=tf.nn.elu, kernel_initializer=he_init)\n",
    "    hidden2 = tf.layers.dense(hidden1, n_hidden2, name=\"hidden2\", activation=tf.nn.elu, kernel_initializer=he_init)\n",
    "    logits = tf.layers.dense(hidden2, n_outputs, name=\"outputs\")        \n",
    "        \n",
    "    \n",
    "with tf.name_scope(\"loss\"):\n",
    "    xentropy = tf.nn.sparse_softmax_cross_entropy_with_logits(labels=y, logits=logits)\n",
    "    loss = tf.reduce_mean(xentropy, name=\"loss\")   \n",
    "    \n",
    "learning_rate = 0.01\n",
    "\n",
    "with tf.name_scope(\"train\"):\n",
    "    optimizer = tf.train.GradientDescentOptimizer(learning_rate)\n",
    "    training_op = optimizer.minimize(loss)    \n",
    "    \n",
    "with tf.name_scope(\"eval\"):\n",
    "    correct = tf.nn.in_top_k(logits, y, 1)\n",
    "    accuracy = tf.reduce_mean(tf.cast(correct, tf.float32))    \n",
    "    "
   ]
  },
  {
   "cell_type": "code",
   "execution_count": 5,
   "metadata": {},
   "outputs": [
    {
     "name": "stdout",
     "output_type": "stream",
     "text": [
      "95%  0 Train accuracy: 0.861\n",
      "95%  1 Train accuracy: 0.868\n",
      "95%  2 Train accuracy: 0.875\n",
      "95%  3 Train accuracy: 0.872\n",
      "95%  4 Train accuracy: 0.876\n",
      "95%  5 Train accuracy: 0.879\n",
      "95%  6 Train accuracy: 0.883\n",
      "95%  7 Train accuracy: 0.887\n",
      "95%  8 Train accuracy: 0.888\n",
      "95%  9 Train accuracy: 0.891\n",
      "95%  10 Train accuracy: 0.894\n",
      "95%  11 Train accuracy: 0.894\n",
      "95%  12 Train accuracy: 0.895\n",
      "95%  13 Train accuracy: 0.898\n",
      "95%  14 Train accuracy: 0.903\n",
      "95%  15 Train accuracy: 0.901\n",
      "95%  16 Train accuracy: 0.903\n",
      "95%  17 Train accuracy: 0.903\n",
      "95%  18 Train accuracy: 0.906\n",
      "95%  19 Train accuracy: 0.906\n",
      "95%  20 Train accuracy: 0.913\n",
      "95%  21 Train accuracy: 0.91\n",
      "95%  22 Train accuracy: 0.914\n",
      "95%  23 Train accuracy: 0.912\n",
      "95%  24 Train accuracy: 0.913\n",
      "95%  25 Train accuracy: 0.921\n",
      "95%  26 Train accuracy: 0.923\n",
      "95%  27 Train accuracy: 0.925\n",
      "95%  28 Train accuracy: 0.922\n",
      "95%  29 Train accuracy: 0.925\n",
      "95%  30 Train accuracy: 0.925\n",
      "95%  31 Train accuracy: 0.927\n",
      "95%  32 Train accuracy: 0.924\n",
      "95%  33 Train accuracy: 0.932\n",
      "95%  34 Train accuracy: 0.93\n",
      "95%  35 Train accuracy: 0.933\n",
      "95%  36 Train accuracy: 0.935\n",
      "95%  37 Train accuracy: 0.936\n",
      "95%  38 Train accuracy: 0.933\n",
      "95%  39 Train accuracy: 0.939\n",
      "95%  40 Train accuracy: 0.936\n",
      "95%  41 Train accuracy: 0.939\n",
      "95%  42 Train accuracy: 0.942\n",
      "95%  43 Train accuracy: 0.939\n",
      "95%  44 Train accuracy: 0.944\n",
      "95%  45 Train accuracy: 0.94\n",
      "95%  46 Train accuracy: 0.944\n",
      "95%  47 Train accuracy: 0.949\n",
      "95%  48 Train accuracy: 0.947\n",
      "95%  49 Train accuracy: 0.947\n",
      "95%  50 Train accuracy: 0.948\n",
      "95%  51 Train accuracy: 0.954\n",
      "95%  52 Train accuracy: 0.953\n",
      "95%  53 Train accuracy: 0.957\n",
      "95%  54 Train accuracy: 0.953\n",
      "95%  55 Train accuracy: 0.958\n",
      "95%  56 Train accuracy: 0.959\n",
      "95%  57 Train accuracy: 0.957\n",
      "95%  58 Train accuracy: 0.959\n",
      "95%  59 Train accuracy: 0.96\n",
      "95%  60 Train accuracy: 0.961\n",
      "95%  61 Train accuracy: 0.962\n",
      "95%  62 Train accuracy: 0.964\n",
      "95%  63 Train accuracy: 0.963\n",
      "95%  64 Train accuracy: 0.963\n",
      "95%  65 Train accuracy: 0.967\n",
      "95%  66 Train accuracy: 0.968\n",
      "95%  67 Train accuracy: 0.967\n",
      "95%  68 Train accuracy: 0.967\n",
      "95%  69 Train accuracy: 0.968\n",
      "95%  70 Train accuracy: 0.968\n",
      "95%  71 Train accuracy: 0.971\n",
      "95%  72 Train accuracy: 0.971\n",
      "95%  73 Train accuracy: 0.968\n",
      "95%  74 Train accuracy: 0.973\n",
      "95%  75 Train accuracy: 0.973\n",
      "95%  76 Train accuracy: 0.973\n",
      "95%  77 Train accuracy: 0.975\n",
      "95%  78 Train accuracy: 0.976\n",
      "95%  79 Train accuracy: 0.977\n",
      "95%  80 Train accuracy: 0.978\n",
      "95%  81 Train accuracy: 0.98\n",
      "95%  82 Train accuracy: 0.981\n",
      "95%  83 Train accuracy: 0.983\n",
      "95%  84 Train accuracy: 0.981\n",
      "95%  85 Train accuracy: 0.981\n",
      "95%  86 Train accuracy: 0.981\n",
      "95%  87 Train accuracy: 0.979\n",
      "95%  88 Train accuracy: 0.984\n",
      "95%  89 Train accuracy: 0.978\n",
      "95%  90 Train accuracy: 0.984\n",
      "95%  91 Train accuracy: 0.984\n",
      "95%  92 Train accuracy: 0.986\n",
      "95%  93 Train accuracy: 0.981\n",
      "95%  94 Train accuracy: 0.984\n",
      "95%  95 Train accuracy: 0.984\n",
      "95%  96 Train accuracy: 0.989\n",
      "95%  97 Train accuracy: 0.989\n",
      "95%  98 Train accuracy: 0.985\n",
      "95%  99 Train accuracy: 0.989\n"
     ]
    }
   ],
   "source": [
    "init = tf.global_variables_initializer()\n",
    "saver = tf.train.Saver()\n",
    "\n",
    "from sklearn.utils import shuffle\n",
    "\n",
    "n_epochs = 100\n",
    "batch_size = 50\n",
    "\n",
    "with tf.Session() as sess:\n",
    "    sess.run(init)\n",
    "    for epoch in range(n_epochs):\n",
    "        X1, y1 = shuffle(data_X, data_y)\n",
    "        X_batches = np.array_split(X1, (data_X.shape[0] // batch_size))    \n",
    "        y_batches = np.array_split(y1, (data_X.shape[0] // batch_size)) \n",
    "        for batch_index in range(data_X.shape[0] // batch_size):\n",
    "            print(\"\\r{}%\".format(100 * batch_index //  (data_X.shape[0] // batch_size) ), end=\"\")\n",
    "\n",
    "            X_batch = X_batches[batch_index]\n",
    "            y_batch = y_batches[batch_index]\n",
    "            \n",
    "            sess.run(training_op, feed_dict={X: X_batch, y: y_batch})\n",
    "        acc_train = accuracy.eval(feed_dict={X: data_X, y: data_y})\n",
    "        print(\" \", epoch, \"Train accuracy:\", acc_train) \n",
    "    save_path = saver.save(sess, \"/tmp/my_model_final.ckpt\")\n",
    "        "
   ]
  },
  {
   "cell_type": "code",
   "execution_count": 6,
   "metadata": {},
   "outputs": [
    {
     "name": "stdout",
     "output_type": "stream",
     "text": [
      "INFO:tensorflow:Restoring parameters from /tmp/my_model_final.ckpt\n"
     ]
    },
    {
     "data": {
      "image/png": "[encoded data removed]",
      "text/plain": [
       "<matplotlib.figure.Figure at 0x2c425486d8>"
      ]
     },
     "metadata": {},
     "output_type": "display_data"
    }
   ],
   "source": [
    "from matplotlib.colors import ListedColormap\n",
    "# plot the decision surface\n",
    "x1_min, x1_max = data_X[:, 0].min() - 1, data_X[:, 0].max() + 1\n",
    "x2_min, x2_max = data_X[:, 1].min() - 1, data_X[:, 1].max() + 1\n",
    "xx1, xx2 = np.meshgrid(np.arange(x1_min, x1_max, 0.2), np.arange(x2_min, x2_max, 0.2))\n",
    "\n",
    "with tf.Session() as sess:\n",
    "    saver.restore(sess, \"/tmp/my_model_final.ckpt\") # or better, use save_path\n",
    "    \n",
    "    X_new_scaled = np.array([xx1.ravel(), xx2.ravel()]).T\n",
    "    Z = logits.eval(feed_dict={X: X_new_scaled})\n",
    "    Z = np.argmax(Z, axis=1)\n",
    "    \n",
    "    #Z = classifier.predict(np.array([xx1.ravel(), xx2.ravel()]).T)\n",
    "    Z = Z.reshape(xx1.shape)\n",
    "\n",
    "markers = ('s', 'x', 'o', '^', 'v')\n",
    "colors = ('red', 'blue', 'lightgreen', 'gray', 'cyan')\n",
    "cmap = ListedColormap(colors[:len(np.unique(data_y))])    \n",
    "plt.contourf(xx1, xx2, Z, alpha=0.4, cmap=cmap)\n",
    "plt.xlim(xx1.min(), xx1.max())\n",
    "plt.ylim(xx2.min(), xx2.max())\n",
    "\n",
    "# plot all samples\n",
    "X_test, y_test = data_X, data_y\n",
    "for idx, cl in enumerate(np.unique(y)):\n",
    "    plt.scatter(x=data_X[:, 0], y=data_X[:, 1], alpha=0.8, c=data_y, marker=markers[idx], label=cl)\n",
    "plt.show()"
   ]
  },
  {
   "cell_type": "code",
   "execution_count": 23,
   "metadata": {
    "collapsed": true
   },
   "outputs": [],
   "source": []
  },
  {
   "cell_type": "code",
   "execution_count": null,
   "metadata": {
    "collapsed": true
   },
   "outputs": [],
   "source": []
  },
  {
   "cell_type": "code",
   "execution_count": null,
   "metadata": {
    "collapsed": true
   },
   "outputs": [],
   "source": []
  }
 ],
 "metadata": {
  "kernelspec": {
   "display_name": "Python 3",
   "language": "python",
   "name": "python3"
  },
  "language_info": {
   "codemirror_mode": {
    "name": "ipython",
    "version": 3
   },
   "file_extension": ".py",
   "mimetype": "text/x-python",
   "name": "python",
   "nbconvert_exporter": "python",
   "pygments_lexer": "ipython3",
   "version": "3.6.3"
  }
 },
 "nbformat": 4,
 "nbformat_minor": 2
}
