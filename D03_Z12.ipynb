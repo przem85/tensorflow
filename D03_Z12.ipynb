{
 "cells": [
  {
   "cell_type": "markdown",
   "metadata": {},
   "source": [
    "# MLP w TensorFlow\n",
    "\n"
   ]
  },
  {
   "cell_type": "code",
   "execution_count": 1,
   "metadata": {},
   "outputs": [
    {
     "name": "stderr",
     "output_type": "stream",
     "text": [
      "C:\\Users\\admin\\Anaconda3\\lib\\site-packages\\h5py\\__init__.py:34: FutureWarning: Conversion of the second argument of issubdtype from `float` to `np.floating` is deprecated. In future, it will be treated as `np.float64 == np.dtype(float).type`.\n",
      "  from ._conv import register_converters as _register_converters\n"
     ]
    }
   ],
   "source": [
    "import tensorflow as tf\n",
    "import numpy as np\n",
    "import matplotlib.pyplot as plt"
   ]
  },
  {
   "cell_type": "markdown",
   "metadata": {},
   "source": [
    "# Momentum optimization\n",
    "```python\n",
    "optimizer = tf.train.MomentumOptimizer(learning_rate=learning_rate,\n",
    "                                       momentum=0.9)\n",
    "```"
   ]
  },
  {
   "cell_type": "markdown",
   "metadata": {},
   "source": [
    "# Nesterov Accelerated Gradient\n",
    "\n",
    "```python\n",
    "optimizer = tf.train.MomentumOptimizer(learning_rate=learning_rate,\n",
    "                                       momentum=0.9, use_nesterov=True)\n",
    "```"
   ]
  },
  {
   "cell_type": "markdown",
   "metadata": {},
   "source": [
    "# AdaGrad\n",
    "```python\n",
    "optimizer = tf.train.AdagradOptimizer(learning_rate=learning_rate)\n",
    "```"
   ]
  },
  {
   "cell_type": "markdown",
   "metadata": {},
   "source": [
    "# RMSProp\n",
    "```python\n",
    "optimizer = tf.train.RMSPropOptimizer(learning_rate=learning_rate,\n",
    "                                      momentum=0.9, decay=0.9, epsilon=1e-10)\n",
    "```"
   ]
  },
  {
   "cell_type": "markdown",
   "metadata": {},
   "source": [
    "# Adam Optimization\n",
    "```python\n",
    "optimizer = tf.train.AdamOptimizer(learning_rate=learning_rate)\n",
    "```"
   ]
  },
  {
   "cell_type": "code",
   "execution_count": 2,
   "metadata": {
    "collapsed": true
   },
   "outputs": [],
   "source": [
    "n_inputs = 28*28 # MNIST\n",
    "n_hidden1 = 300\n",
    "n_hidden2 = 100\n",
    "n_outputs = 10"
   ]
  },
  {
   "cell_type": "code",
   "execution_count": 3,
   "metadata": {},
   "outputs": [],
   "source": [
    "tf.reset_default_graph()\n",
    "X = tf.placeholder(tf.float32, shape=(None, n_inputs), name=\"X\")\n",
    "y = tf.placeholder(tf.int64, shape=(None), name=\"y\")\n",
    "\n",
    "he_init = tf.contrib.layers.variance_scaling_initializer()\n",
    "\n",
    "with tf.name_scope(\"dnn\"):\n",
    "    hidden1 = tf.layers.dense(X, n_hidden1, name=\"hidden1\", activation=tf.nn.relu, kernel_initializer=he_init)\n",
    "    hidden2 = tf.layers.dense(hidden1, n_hidden2, name=\"hidden2\", activation=tf.nn.relu, kernel_initializer=he_init)\n",
    "    logits = tf.layers.dense(hidden2, n_outputs, name=\"outputs\")    \n",
    "    \n",
    "with tf.name_scope(\"loss\"):\n",
    "    xentropy = tf.nn.softmax_cross_entropy_with_logits(labels=y, logits=logits)\n",
    "    loss = tf.reduce_mean(xentropy, name=\"loss\") \n",
    "    \n",
    "learning_rate = 0.01\n",
    "\n",
    "with tf.name_scope(\"train\"):\n",
    "    optimizer = tf.train.GradientDescentOptimizer(learning_rate)\n",
    "    training_op = optimizer.minimize(loss)  \n",
    "    \n",
    "with tf.name_scope(\"eval\"):\n",
    "    correct = tf.nn.in_top_k(logits, tf.argmax(y, 1), 1)\n",
    "    accuracy = tf.reduce_mean(tf.cast(correct, tf.float32))   \n",
    "    \n",
    "init = tf.global_variables_initializer()\n",
    "saver = tf.train.Saver()"
   ]
  },
  {
   "cell_type": "code",
   "execution_count": 4,
   "metadata": {},
   "outputs": [
    {
     "name": "stdout",
     "output_type": "stream",
     "text": [
      "Extracting MNIST_data/train-images-idx3-ubyte.gz\n",
      "Extracting MNIST_data/train-labels-idx1-ubyte.gz\n",
      "Extracting MNIST_data/t10k-images-idx3-ubyte.gz\n",
      "Extracting MNIST_data/t10k-labels-idx1-ubyte.gz\n"
     ]
    }
   ],
   "source": [
    "from tensorflow.examples.tutorials.mnist import input_data\n",
    "mnist = input_data.read_data_sets(\"MNIST_data/\", one_hot=True)"
   ]
  },
  {
   "cell_type": "code",
   "execution_count": 5,
   "metadata": {
    "collapsed": true
   },
   "outputs": [],
   "source": [
    "n_epochs = 20\n",
    "batch_size = 64\n",
    "\n",
    "array_acc_test_g = []\n",
    "array_acc_test_adam=[]"
   ]
  },
  {
   "cell_type": "code",
   "execution_count": 6,
   "metadata": {},
   "outputs": [
    {
     "name": "stdout",
     "output_type": "stream",
     "text": [
      "99%  0 Train accuracy: 0.90625 Test accuracy: 0.8983\n",
      "99%  1 Train accuracy: 0.890625 Test accuracy: 0.9183\n",
      "99%  2 Train accuracy: 0.953125 Test accuracy: 0.9269\n",
      "99%  3 Train accuracy: 0.953125 Test accuracy: 0.9335\n",
      "99%  4 Train accuracy: 0.96875 Test accuracy: 0.9391\n",
      "99%  5 Train accuracy: 0.953125 Test accuracy: 0.9429\n",
      "99%  6 Train accuracy: 0.96875 Test accuracy: 0.9447\n",
      "99%  7 Train accuracy: 0.90625 Test accuracy: 0.9495\n",
      "99%  8 Train accuracy: 0.953125 Test accuracy: 0.9514\n",
      "99%  9 Train accuracy: 0.984375 Test accuracy: 0.9532\n",
      "99%  10 Train accuracy: 1.0 Test accuracy: 0.9546\n",
      "99%  11 Train accuracy: 0.953125 Test accuracy: 0.958\n",
      "99%  12 Train accuracy: 0.96875 Test accuracy: 0.9572\n",
      "99%  13 Train accuracy: 1.0 Test accuracy: 0.959\n",
      "99%  14 Train accuracy: 1.0 Test accuracy: 0.9615\n",
      "99%  15 Train accuracy: 0.984375 Test accuracy: 0.9622\n",
      "99%  16 Train accuracy: 1.0 Test accuracy: 0.9645\n",
      "99%  17 Train accuracy: 0.984375 Test accuracy: 0.9662\n",
      "99%  18 Train accuracy: 0.96875 Test accuracy: 0.9653\n",
      "99%  19 Train accuracy: 0.953125 Test accuracy: 0.9666\n"
     ]
    }
   ],
   "source": [
    "with tf.Session() as sess:\n",
    "    sess.run(init)\n",
    "    for epoch in range(n_epochs):\n",
    "        for batch_index in range(mnist.train.num_examples // batch_size):\n",
    "            print(\"\\r{}%\".format(100 * batch_index //  (mnist.train.num_examples // batch_size) ), end=\"\")\n",
    "            X_batch, y_batch = mnist.train.next_batch(batch_size)\n",
    "            sess.run(training_op, feed_dict={X: X_batch, y: y_batch})\n",
    "        acc_train = accuracy.eval(feed_dict={X: X_batch, y: y_batch})\n",
    "        acc_test = accuracy.eval(feed_dict={X: mnist.test.images, y: mnist.test.labels})\n",
    "        print(\" \", epoch, \"Train accuracy:\", acc_train, \"Test accuracy:\", acc_test)   \n",
    "        array_acc_test_g.append(acc_test)"
   ]
  },
  {
   "cell_type": "code",
   "execution_count": 7,
   "metadata": {},
   "outputs": [],
   "source": [
    "tf.reset_default_graph()\n",
    "X = tf.placeholder(tf.float32, shape=(None, n_inputs), name=\"X\")\n",
    "y = tf.placeholder(tf.int64, shape=(None), name=\"y\")\n",
    "\n",
    "he_init = tf.contrib.layers.variance_scaling_initializer()\n",
    "\n",
    "with tf.name_scope(\"dnn\"):\n",
    "    hidden1 = tf.layers.dense(X, n_hidden1, name=\"hidden1\", activation=tf.nn.relu, kernel_initializer=he_init)\n",
    "    hidden2 = tf.layers.dense(hidden1, n_hidden2, name=\"hidden2\", activation=tf.nn.relu, kernel_initializer=he_init)\n",
    "    logits = tf.layers.dense(hidden2, n_outputs, name=\"outputs\")    \n",
    "    \n",
    "with tf.name_scope(\"loss\"):\n",
    "    xentropy = tf.nn.softmax_cross_entropy_with_logits(labels=y, logits=logits)\n",
    "    loss = tf.reduce_mean(xentropy, name=\"loss\") \n",
    "    \n",
    "learning_rate = 0.01\n",
    "\n",
    "with tf.name_scope(\"train\"):\n",
    "    optimizer = tf.train.AdamOptimizer(learning_rate=learning_rate)\n",
    "    training_op = optimizer.minimize(loss)  \n",
    "    \n",
    "with tf.name_scope(\"eval\"):\n",
    "    correct = tf.nn.in_top_k(logits, tf.argmax(y, 1), 1)\n",
    "    accuracy = tf.reduce_mean(tf.cast(correct, tf.float32))   \n",
    "    \n",
    "init = tf.global_variables_initializer()\n",
    "saver = tf.train.Saver()"
   ]
  },
  {
   "cell_type": "code",
   "execution_count": 8,
   "metadata": {},
   "outputs": [
    {
     "name": "stdout",
     "output_type": "stream",
     "text": [
      "99%  0 Train accuracy: 0.9375 Test accuracy: 0.9549\n",
      "99%  1 Train accuracy: 1.0 Test accuracy: 0.9538\n",
      "99%  2 Train accuracy: 1.0 Test accuracy: 0.9659\n",
      "99%  3 Train accuracy: 0.984375 Test accuracy: 0.9652\n",
      "99%  4 Train accuracy: 1.0 Test accuracy: 0.9631\n",
      "99%  5 Train accuracy: 0.96875 Test accuracy: 0.9684\n",
      "99%  6 Train accuracy: 0.984375 Test accuracy: 0.9687\n",
      "99%  7 Train accuracy: 0.984375 Test accuracy: 0.9683\n",
      "99%  8 Train accuracy: 0.984375 Test accuracy: 0.9645\n",
      "99%  9 Train accuracy: 0.984375 Test accuracy: 0.97\n",
      "99%  10 Train accuracy: 1.0 Test accuracy: 0.9704\n",
      "99%  11 Train accuracy: 0.984375 Test accuracy: 0.9676\n",
      "99%  12 Train accuracy: 1.0 Test accuracy: 0.9711\n",
      "99%  13 Train accuracy: 1.0 Test accuracy: 0.9688\n",
      "99%  14 Train accuracy: 1.0 Test accuracy: 0.9733\n",
      "99%  15 Train accuracy: 0.984375 Test accuracy: 0.9712\n",
      "99%  16 Train accuracy: 0.984375 Test accuracy: 0.9716\n",
      "99%  17 Train accuracy: 0.96875 Test accuracy: 0.9707\n",
      "99%  18 Train accuracy: 0.984375 Test accuracy: 0.972\n",
      "99%  19 Train accuracy: 0.96875 Test accuracy: 0.972\n"
     ]
    }
   ],
   "source": [
    "with tf.Session() as sess:\n",
    "    sess.run(init)\n",
    "    for epoch in range(n_epochs):\n",
    "        for batch_index in range(mnist.train.num_examples // batch_size):\n",
    "            print(\"\\r{}%\".format(100 * batch_index //  (mnist.train.num_examples // batch_size) ), end=\"\")\n",
    "            X_batch, y_batch = mnist.train.next_batch(batch_size)\n",
    "            sess.run(training_op, feed_dict={X: X_batch, y: y_batch})\n",
    "        acc_train = accuracy.eval(feed_dict={X: X_batch, y: y_batch})\n",
    "        acc_test = accuracy.eval(feed_dict={X: mnist.test.images, y: mnist.test.labels})\n",
    "        print(\" \", epoch, \"Train accuracy:\", acc_train, \"Test accuracy:\", acc_test)   \n",
    "        array_acc_test_adam.append(acc_test)"
   ]
  },
  {
   "cell_type": "code",
   "execution_count": 9,
   "metadata": {},
   "outputs": [
    {
     "data": {
      "image/png": "[encoded data removed]",
      "text/plain": [
       "<matplotlib.figure.Figure at 0x1ab2c4fe10>"
      ]
     },
     "metadata": {},
     "output_type": "display_data"
    }
   ],
   "source": [
    "plt.figure()\n",
    "plt.plot(array_acc_test_g, label='Gradient Descent')\n",
    "plt.plot(array_acc_test_adam, label='Adam')\n",
    "plt.ylim(0,1)\n",
    "plt.xlabel('Epoch')\n",
    "plt.ylabel('Accuracy on test set')\n",
    "plt.legend()\n",
    "plt.show()"
   ]
  },
  {
   "cell_type": "code",
   "execution_count": null,
   "metadata": {},
   "outputs": [],
   "source": []
  },
  {
   "cell_type": "code",
   "execution_count": null,
   "metadata": {
    "collapsed": true
   },
   "outputs": [],
   "source": []
  }
 ],
 "metadata": {
  "kernelspec": {
   "display_name": "Python 3",
   "language": "python",
   "name": "python3"
  },
  "language_info": {
   "codemirror_mode": {
    "name": "ipython",
    "version": 3
   },
   "file_extension": ".py",
   "mimetype": "text/x-python",
   "name": "python",
   "nbconvert_exporter": "python",
   "pygments_lexer": "ipython3",
   "version": "3.6.3"
  }
 },
 "nbformat": 4,
 "nbformat_minor": 2
}
