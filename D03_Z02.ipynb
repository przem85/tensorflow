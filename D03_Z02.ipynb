{
 "cells": [
  {
   "cell_type": "markdown",
   "metadata": {},
   "source": [
    "# MLP w TensorFlow\n",
    "\n",
    "Najpierw musimy zaimportować bibliotekę tensorflow. \n"
   ]
  },
  {
   "cell_type": "code",
   "execution_count": 3,
   "metadata": {},
   "outputs": [],
   "source": [
    "import tensorflow as tf"
   ]
  },
  {
   "cell_type": "markdown",
   "metadata": {},
   "source": [
    "Następnie musimy określić liczbę wejść i wyjść oraz ustawić liczbę ukrytych neuronów w każdej warstwie"
   ]
  },
  {
   "cell_type": "code",
   "execution_count": 4,
   "metadata": {
    "collapsed": true
   },
   "outputs": [],
   "source": [
    "n_inputs = 28*28 # MNIST\n",
    "n_hidden1 = 300\n",
    "n_hidden2 = 100\n",
    "n_outputs = 10"
   ]
  },
  {
   "cell_type": "markdown",
   "metadata": {},
   "source": [
    "Następnie, można użyć węzłów typu placeholder do reprezentowania danych treningowych. \n",
    "\n",
    "  * Kształt $X$ jest tylko częściowo zdefiniowany. \n",
    "  * Wiemy, że będzie to tensor 2D, z instancjami wzdłuż pierwszego wymiaru i cechami wzdłuż drugiego wymiaru, i wiemy, że liczba funkcji będzie wynosić $28 x 28$ (jedna cecha na piksel), ale nie wiemy jeszcze, ile wystąpi elementów. \n",
    "  * Zatem kształt $X$ to (None, n_inputs)\n",
    "  * Podobnie, wiemy, że $y$ będzie tensorem 1D z jedą kolumną na instancję, ale znowu nie znamy wielkości zbioru treningowego, więc kształt jest (None)."
   ]
  },
  {
   "cell_type": "code",
   "execution_count": 5,
   "metadata": {
    "collapsed": true
   },
   "outputs": [],
   "source": [
    "X = tf.placeholder(tf.float32, shape=(None, n_inputs), name=\"X\")\n",
    "y = tf.placeholder(tf.int64, shape=(None), name=\"y\")"
   ]
  },
  {
   "cell_type": "code",
   "execution_count": null,
   "metadata": {
    "collapsed": true
   },
   "outputs": [],
   "source": []
  }
 ],
 "metadata": {
  "kernelspec": {
   "display_name": "Python 3",
   "language": "python",
   "name": "python3"
  },
  "language_info": {
   "codemirror_mode": {
    "name": "ipython",
    "version": 3
   },
   "file_extension": ".py",
   "mimetype": "text/x-python",
   "name": "python",
   "nbconvert_exporter": "python",
   "pygments_lexer": "ipython3",
   "version": "3.6.3"
  }
 },
 "nbformat": 4,
 "nbformat_minor": 2
}
