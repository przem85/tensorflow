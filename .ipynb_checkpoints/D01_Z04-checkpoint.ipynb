{
 "cells": [
  {
   "cell_type": "code",
   "execution_count": 137,
   "metadata": {},
   "outputs": [],
   "source": [
    "import numpy as np\n",
    "import tensorflow as tf"
   ]
  },
  {
   "cell_type": "markdown",
   "metadata": {},
   "source": [
    "# Zad.\n",
    "Wczytaj dane i narysuj je na wykresie."
   ]
  },
  {
   "cell_type": "code",
   "execution_count": 138,
   "metadata": {},
   "outputs": [],
   "source": [
    "data = np.loadtxt(\"life_satisfaction.csv\",\n",
    "                  dtype=np.float32,\n",
    "                  delimiter=\",\",\n",
    "                  skiprows=1,\n",
    "                  usecols=[1, 2])\n",
    "X_train = data[:, 0:1] / 10000 # feature scaling\n",
    "y_train = data[:, 1:2]"
   ]
  },
  {
   "cell_type": "code",
   "execution_count": 139,
   "metadata": {},
   "outputs": [
    {
     "data": {
      "image/png": "[encoded data removed]",
      "text/plain": [
       "<Figure size 432x288 with 1 Axes>"
      ]
     },
     "metadata": {},
     "output_type": "display_data"
    },
    {
     "name": "stdout",
     "output_type": "stream",
     "text": [
      "(29, 1)\n"
     ]
    }
   ],
   "source": [
    "import matplotlib.pyplot as plt\n",
    "\n",
    "plt.plot(X_train, y_train, \"bo\")\n",
    "plt.show()\n",
    "print(X_train.shape)"
   ]
  },
  {
   "cell_type": "markdown",
   "metadata": {},
   "source": [
    "# Zad \n",
    "Wykonaj regresię za pomocą Scikit-Learn."
   ]
  },
  {
   "cell_type": "code",
   "execution_count": 140,
   "metadata": {},
   "outputs": [
    {
     "name": "stdout",
     "output_type": "stream",
     "text": [
      "[[4.853052  ]\n",
      " [0.49115452]]\n"
     ]
    }
   ],
   "source": [
    "from sklearn.linear_model import LinearRegression\n",
    "lin_reg = LinearRegression()\n",
    "lin_reg.fit(X_train, y_train)\n",
    "\n",
    "print(np.r_[lin_reg.intercept_.reshape(-1, 1), lin_reg.coef_.T])"
   ]
  },
  {
   "cell_type": "code",
   "execution_count": 141,
   "metadata": {},
   "outputs": [
    {
     "data": {
      "image/png": "[encoded data removed]",
      "text/plain": [
       "<Figure size 432x288 with 1 Axes>"
      ]
     },
     "metadata": {},
     "output_type": "display_data"
    }
   ],
   "source": [
    "f_lr = lambda x: lin_reg.coef_[0][0] * x +lin_reg.intercept_[0]\n",
    "\n",
    "x_f_lr = np.linspace(0., 6, 200)\n",
    "y_f_lr = f_lr(x_f_lr)\n",
    "plt.plot(x_f_lr, y_f_lr, 'g');\n",
    "plt.plot(X_train, y_train, 'bo');\n",
    "plt.show()"
   ]
  },
  {
   "cell_type": "markdown",
   "metadata": {},
   "source": [
    "# Zad.\n",
    "Wykonaj regresię za pomocą TensorFlow."
   ]
  },
  {
   "cell_type": "code",
   "execution_count": 142,
   "metadata": {},
   "outputs": [
    {
     "name": "stdout",
     "output_type": "stream",
     "text": [
      "29 2\n",
      "[[4.853052 ]\n",
      " [0.4911556]]\n"
     ]
    }
   ],
   "source": [
    "data_plus_bias  = np.c_[np.ones((X_train.shape[0], 1)), X_train]\n",
    "data_m, data_n = data_plus_bias.shape\n",
    "print(data_m, data_n)\n",
    "\n",
    "X = tf.constant(data_plus_bias, dtype=tf.float32, name=\"X\")\n",
    "y = tf.constant(y_train.reshape(-1, 1), dtype=tf.float32, name=\"y\")\n",
    "\n",
    "XT = tf.transpose(X)\n",
    "theta = tf.matmul(tf.matmul(tf.matrix_inverse(tf.matmul(XT, X)), XT), y)\n",
    "with tf.Session() as sess:\n",
    "    theta_value = theta.eval()\n",
    "    print(theta_value)"
   ]
  },
  {
   "cell_type": "code",
   "execution_count": 143,
   "metadata": {},
   "outputs": [
    {
     "data": {
      "image/png": "[encoded data removed]",
      "text/plain": [
       "<Figure size 432x288 with 1 Axes>"
      ]
     },
     "metadata": {},
     "output_type": "display_data"
    }
   ],
   "source": [
    "f_lr = lambda x: theta_value[1] * x + theta_value[0][0]\n",
    "\n",
    "x_f_lr = np.linspace(0., 6, 200)\n",
    "y_f_lr = f_lr(x_f_lr)\n",
    "plt.plot(x_f_lr, y_f_lr, 'g');\n",
    "plt.plot(X_train, y_train, 'bo');\n",
    "plt.show()"
   ]
  },
  {
   "cell_type": "markdown",
   "metadata": {},
   "source": [
    "# Implementing Gradient Descent\n",
    "\n",
    "Możemy zminimalizować funkcję kosztu gradientowo wykorzystując gradient: \n",
    "\n",
    "\n",
    "```python\n",
    "gradients = 2/m * tf.matmul(tf.transpose(X), error)\n",
    "```"
   ]
  },
  {
   "cell_type": "code",
   "execution_count": 144,
   "metadata": {},
   "outputs": [
    {
     "name": "stdout",
     "output_type": "stream",
     "text": [
      "Epoch 0 MSE = 19.612455\n",
      "Epoch 100 MSE = 1.3545243\n",
      "Epoch 200 MSE = 0.8315496\n",
      "Epoch 300 MSE = 0.54158586\n",
      "Epoch 400 MSE = 0.38081592\n",
      "Epoch 500 MSE = 0.29167664\n",
      "Epoch 600 MSE = 0.24225356\n",
      "Epoch 700 MSE = 0.21485056\n",
      "Epoch 800 MSE = 0.19965717\n",
      "Epoch 900 MSE = 0.19123314\n",
      "[[4.660542  ]\n",
      " [0.54031867]]\n"
     ]
    }
   ],
   "source": [
    "tf.reset_default_graph()\n",
    "\n",
    "n_epochs = 1000\n",
    "learning_rate = 0.01\n",
    "\n",
    "X = tf.constant(data_plus_bias, dtype=tf.float32, name=\"X\")\n",
    "y = tf.constant(y_train.reshape(-1, 1), dtype=tf.float32, name=\"y\")\n",
    "theta = tf.Variable(tf.random_uniform([data_n, 1], -1.0, 1.0, seed=42), name=\"theta\")\n",
    "\n",
    "y_pred = tf.matmul(X, theta, name=\"predictions\")\n",
    "error = y_pred - y\n",
    "mse = tf.reduce_mean(tf.square(error), name=\"mse\")\n",
    "gradients = 2/data_m * tf.matmul(tf.transpose(X), error)\n",
    "training_op = tf.assign(theta, theta - learning_rate * gradients)\n",
    "\n",
    "init = tf.global_variables_initializer()\n",
    "\n",
    "with tf.Session() as sess:\n",
    "    sess.run(init)\n",
    "\n",
    "    for epoch in range(n_epochs):\n",
    "        if epoch % 100 == 0:\n",
    "            print(\"Epoch\", epoch, \"MSE =\", mse.eval())\n",
    "        sess.run(training_op)\n",
    "    \n",
    "    best_theta = theta.eval()\n",
    "    print(best_theta)"
   ]
  },
  {
   "cell_type": "code",
   "execution_count": 145,
   "metadata": {},
   "outputs": [
    {
     "data": {
      "image/png": "[encoded data removed]",
      "text/plain": [
       "<Figure size 432x288 with 1 Axes>"
      ]
     },
     "metadata": {},
     "output_type": "display_data"
    }
   ],
   "source": [
    "f_lr = lambda x: best_theta[1] * x + best_theta[0]\n",
    "\n",
    "x_f_lr = np.linspace(0., 6, 200)\n",
    "y_f_lr = f_lr(x_f_lr)\n",
    "plt.plot(x_f_lr, y_f_lr, 'g');\n",
    "plt.plot(X_train, y_train, 'bo');\n",
    "plt.show()"
   ]
  },
  {
   "cell_type": "markdown",
   "metadata": {},
   "source": [
    "# Zad.\n",
    "\n",
    "Proszę narysować wykres zmiany funkcji kosztu"
   ]
  },
  {
   "cell_type": "code",
   "execution_count": 146,
   "metadata": {},
   "outputs": [
    {
     "name": "stdout",
     "output_type": "stream",
     "text": [
      "Epoch 0 MSE = 19.612455\n",
      "Epoch 100 MSE = 1.3545243\n",
      "Epoch 200 MSE = 0.8315496\n",
      "Epoch 300 MSE = 0.54158586\n",
      "Epoch 400 MSE = 0.38081592\n",
      "Epoch 500 MSE = 0.29167664\n",
      "Epoch 600 MSE = 0.24225356\n",
      "Epoch 700 MSE = 0.21485056\n",
      "Epoch 800 MSE = 0.19965717\n",
      "Epoch 900 MSE = 0.19123314\n",
      "[[4.660542  ]\n",
      " [0.54031867]]\n"
     ]
    }
   ],
   "source": [
    "tf.reset_default_graph()\n",
    "\n",
    "n_epochs = 1000\n",
    "learning_rate = 0.01\n",
    "error_array=[]\n",
    "\n",
    "X = tf.constant(data_plus_bias, dtype=tf.float32, name=\"X\")\n",
    "y = tf.constant(y_train.reshape(-1, 1), dtype=tf.float32, name=\"y\")\n",
    "theta = tf.Variable(tf.random_uniform([data_n, 1], -1.0, 1.0, seed=42), name=\"theta\")\n",
    "\n",
    "y_pred = tf.matmul(X, theta, name=\"predictions\")\n",
    "error = y_pred - y\n",
    "mse = tf.reduce_mean(tf.square(error), name=\"mse\")\n",
    "gradients = 2/data_m * tf.matmul(tf.transpose(X), error)\n",
    "training_op = tf.assign(theta, theta - learning_rate * gradients)\n",
    "\n",
    "init = tf.global_variables_initializer()\n",
    "\n",
    "with tf.Session() as sess:\n",
    "    sess.run(init)\n",
    "\n",
    "    for epoch in range(n_epochs):\n",
    "        if epoch % 100 == 0:\n",
    "            print(\"Epoch\", epoch, \"MSE =\", mse.eval())\n",
    "        error_array.append(mse.eval())\n",
    "        sess.run(training_op)\n",
    "    \n",
    "    best_theta = theta.eval()\n",
    "    print(best_theta)"
   ]
  },
  {
   "cell_type": "code",
   "execution_count": 147,
   "metadata": {},
   "outputs": [
    {
     "data": {
      "image/png": "[encoded data removed]",
      "text/plain": [
       "<Figure size 432x288 with 1 Axes>"
      ]
     },
     "metadata": {},
     "output_type": "display_data"
    }
   ],
   "source": [
    "plt.figure()\n",
    "plt.plot(error_array, label='Linear regression')\n",
    "#plt.semilogy(error_array, label='Linear regression')\n",
    "plt.xlabel('Epoch')\n",
    "plt.ylabel('MSE')\n",
    "plt.legend()\n",
    "plt.show()"
   ]
  },
  {
   "cell_type": "code",
   "execution_count": 148,
   "metadata": {},
   "outputs": [
    {
     "data": {
      "image/png": "[encoded data removed]",
      "text/plain": [
       "<Figure size 432x288 with 1 Axes>"
      ]
     },
     "metadata": {},
     "output_type": "display_data"
    }
   ],
   "source": [
    "f_lr = lambda x: best_theta[1] * x + best_theta[0]\n",
    "\n",
    "x_f_lr = np.linspace(0., 6, 200)\n",
    "y_f_lr = f_lr(x_f_lr)\n",
    "plt.plot(x_f_lr, y_f_lr, 'g');\n",
    "plt.plot(X_train, y_train, 'bo');\n",
    "plt.show()"
   ]
  },
  {
   "cell_type": "markdown",
   "metadata": {},
   "source": [
    "# Automatyczne różniczkowanie\n",
    "\n",
    "  * Aby zrozumieć dlaczego, rozważ funkcję \n",
    "$$\n",
    "f (x) = exp (exp (exp (x))).\n",
    "$$\n",
    "  * Możesz obliczyć jej pochodną \n",
    "$$\n",
    "f'(x) = exp (x) \\cdot exp (exp (x)) \\cdot exp (exp (exp (x))).\n",
    "$$\n",
    "  * Wydajnym rozwiązaniem będzie napisanie funkcji, \n",
    "    * która najpierw oblicza $exp (x)$, \n",
    "    * następnie $exp (exp (x))$, \n",
    "    * astępnie $exp (exp (exp (x)))$ \n",
    "    \n",
    "  i zwraca wszystkie trzy. \n",
    "  * To daje Ci $f(x)$ bezpośrednio (trzeci człon), a jeśli potrzebujesz pochodnej możesz po prostu pomnożyć wszystkie trzy elemnty i gotowe.\n",
    "  * Przy naiwnym podejściu musiałbyś wywołać funkcję $exp$ dziewięć razy, aby obliczyć zarówno $f(x)$, jak i $f'(x)$. Przy takim podejściu wystarczy wywołać to trzy razy."
   ]
  },
  {
   "cell_type": "markdown",
   "metadata": {},
   "source": [
    "# Zadanie\n",
    "Można znaleźć pochodne cząstkowe poniższej funkcji w odniesieniu do a i b\n",
    "\n",
    "```python\n",
    "tf.gradients\n",
    "```"
   ]
  },
  {
   "cell_type": "code",
   "execution_count": 149,
   "metadata": {},
   "outputs": [
    {
     "data": {
      "text/plain": [
       "-0.21253923284754914"
      ]
     },
     "execution_count": 149,
     "metadata": {},
     "output_type": "execute_result"
    }
   ],
   "source": [
    "def my_func(a, b):\n",
    "    z = 0\n",
    "    for i in range(100):\n",
    "        z = a * np.cos(z + i) + z * np.sin(b - i)\n",
    "    return z\n",
    "\n",
    "my_func(0.2, 0.3)"
   ]
  },
  {
   "cell_type": "code",
   "execution_count": 150,
   "metadata": {},
   "outputs": [
    {
     "name": "stdout",
     "output_type": "stream",
     "text": [
      "-0.21253741\n",
      "[-1.1388494, 0.19671395]\n"
     ]
    }
   ],
   "source": [
    "tf.reset_default_graph()\n",
    "\n",
    "a = tf.Variable(0.2, name=\"a\")\n",
    "b = tf.Variable(0.3, name=\"b\")\n",
    "z = tf.constant(0.0, name=\"z0\")\n",
    "for i in range(100):\n",
    "    z = a * tf.cos(z + i) + z * tf.sin(b - i)\n",
    "\n",
    "grads = tf.gradients(z, [a, b])\n",
    "init = tf.global_variables_initializer()\n",
    "\n",
    "with tf.Session() as sess:\n",
    "    init.run()\n",
    "    print(z.eval())\n",
    "    print(sess.run(grads))"
   ]
  },
  {
   "cell_type": "markdown",
   "metadata": {},
   "source": [
    "# Zad\n",
    "\n",
    "Możemy też użyć gradientu wyliczonego za pomocą automatycznego różniczkowania\n",
    "\n",
    "```python\n",
    "gradients = tf.gradients(mse, [theta])[0]\n",
    "```\n"
   ]
  },
  {
   "cell_type": "code",
   "execution_count": 151,
   "metadata": {},
   "outputs": [
    {
     "name": "stdout",
     "output_type": "stream",
     "text": [
      "Epoch 0 MSE = 19.612455\n",
      "Epoch 100 MSE = 1.3545243\n",
      "Epoch 200 MSE = 0.8315496\n",
      "Epoch 300 MSE = 0.54158574\n",
      "Epoch 400 MSE = 0.3808158\n",
      "Epoch 500 MSE = 0.29167664\n",
      "Epoch 600 MSE = 0.24225356\n",
      "Epoch 700 MSE = 0.21485056\n",
      "Epoch 800 MSE = 0.19965717\n",
      "Epoch 900 MSE = 0.19123314\n",
      "Best theta:\n",
      "[[4.660542  ]\n",
      " [0.54031867]]\n"
     ]
    }
   ],
   "source": [
    "tf.reset_default_graph()\n",
    "\n",
    "n_epochs = 1000\n",
    "learning_rate = 0.01\n",
    "\n",
    "X = tf.constant(data_plus_bias, dtype=tf.float32, name=\"X\")\n",
    "y = tf.constant(y_train.reshape(-1, 1), dtype=tf.float32, name=\"y\")\n",
    "theta = tf.Variable(tf.random_uniform([data_n, 1], -1.0, 1.0, seed=42), name=\"theta\")\n",
    "\n",
    "y_pred = tf.matmul(X, theta, name=\"predictions\")\n",
    "error = y_pred - y\n",
    "mse = tf.reduce_mean(tf.square(error), name=\"mse\")\n",
    "\n",
    "gradients = tf.gradients(mse, [theta])[0]\n",
    "\n",
    "training_op = tf.assign(theta, theta - learning_rate * gradients)\n",
    "\n",
    "init = tf.global_variables_initializer()\n",
    "with tf.Session() as sess:\n",
    "    sess.run(init)\n",
    "\n",
    "    for epoch in range(n_epochs):\n",
    "        if epoch % 100 == 0:\n",
    "            print(\"Epoch\", epoch, \"MSE =\", mse.eval())\n",
    "        sess.run(training_op)\n",
    "    \n",
    "    best_theta = theta.eval()\n",
    "\n",
    "print(\"Best theta:\")\n",
    "print(best_theta)"
   ]
  },
  {
   "cell_type": "code",
   "execution_count": 153,
   "metadata": {},
   "outputs": [
    {
     "data": {
      "image/png": "[encoded data removed]",
      "text/plain": [
       "<Figure size 432x288 with 1 Axes>"
      ]
     },
     "metadata": {},
     "output_type": "display_data"
    }
   ],
   "source": [
    "f_lr = lambda x: best_theta[1] * x + best_theta[0]\n",
    "\n",
    "x_f_lr = np.linspace(0., 6, 200)\n",
    "y_f_lr = f_lr(x_f_lr)\n",
    "plt.plot(x_f_lr, y_f_lr, 'g');\n",
    "plt.plot(X_train, y_train, 'bo');\n",
    "plt.show()"
   ]
  },
  {
   "cell_type": "markdown",
   "metadata": {},
   "source": [
    "# Zad.\n",
    "\n",
    "Proszę narysować wykres zmiany funkcji kosztu"
   ]
  },
  {
   "cell_type": "code",
   "execution_count": 154,
   "metadata": {},
   "outputs": [
    {
     "name": "stdout",
     "output_type": "stream",
     "text": [
      "Epoch 0 MSE = 19.612455\n",
      "Epoch 100 MSE = 1.3545243\n",
      "Epoch 200 MSE = 0.8315496\n",
      "Epoch 300 MSE = 0.54158574\n",
      "Epoch 400 MSE = 0.3808158\n",
      "Epoch 500 MSE = 0.29167664\n",
      "Epoch 600 MSE = 0.24225356\n",
      "Epoch 700 MSE = 0.21485056\n",
      "Epoch 800 MSE = 0.19965717\n",
      "Epoch 900 MSE = 0.19123314\n",
      "Best theta:\n",
      "[[4.660542  ]\n",
      " [0.54031867]]\n"
     ]
    }
   ],
   "source": [
    "tf.reset_default_graph()\n",
    "\n",
    "n_epochs = 1000\n",
    "learning_rate = 0.01\n",
    "error_array=[]\n",
    "\n",
    "X = tf.constant(data_plus_bias, dtype=tf.float32, name=\"X\")\n",
    "y = tf.constant(y_train.reshape(-1, 1), dtype=tf.float32, name=\"y\")\n",
    "theta = tf.Variable(tf.random_uniform([data_n, 1], -1.0, 1.0, seed=42), name=\"theta\")\n",
    "\n",
    "y_pred = tf.matmul(X, theta, name=\"predictions\")\n",
    "error = y_pred - y\n",
    "mse = tf.reduce_mean(tf.square(error), name=\"mse\")\n",
    "\n",
    "gradients = tf.gradients(mse, [theta])[0]\n",
    "\n",
    "training_op = tf.assign(theta, theta - learning_rate * gradients)\n",
    "\n",
    "init = tf.global_variables_initializer()\n",
    "with tf.Session() as sess:\n",
    "    sess.run(init)\n",
    "\n",
    "    for epoch in range(n_epochs):\n",
    "        if epoch % 100 == 0:\n",
    "            print(\"Epoch\", epoch, \"MSE =\", mse.eval())\n",
    "        error_array.append(mse.eval())    \n",
    "        sess.run(training_op)\n",
    "    \n",
    "    best_theta = theta.eval()\n",
    "\n",
    "print(\"Best theta:\")\n",
    "print(best_theta)"
   ]
  },
  {
   "cell_type": "code",
   "execution_count": 155,
   "metadata": {},
   "outputs": [
    {
     "data": {
      "image/png": "[encoded data removed]",
      "text/plain": [
       "<Figure size 432x288 with 1 Axes>"
      ]
     },
     "metadata": {},
     "output_type": "display_data"
    }
   ],
   "source": [
    "plt.figure()\n",
    "plt.plot(error_array, label='Linear regression')\n",
    "#plt.semilogy(error_array, label='Linear regression')\n",
    "plt.xlabel('Epoch')\n",
    "plt.ylabel('MSE')\n",
    "plt.legend()\n",
    "plt.show()"
   ]
  },
  {
   "cell_type": "markdown",
   "metadata": {},
   "source": [
    "# Korzystanie z Optymalizatora\n",
    "\n",
    "  * TensorFlow oblicza gradienty dla ciebie.\n",
    "  * Ale możesz użyć optymalizatora. TensorFlow dostarcza wiele optymalizatorów, w tym optymalizator Gradient Descent.\n",
    "  \n",
    "\n",
    "```python\n",
    "optimizer = tf.train.GradientDescentOptimizer(learning_rate=learning_rate)\n",
    "training_op = optimizer.minimize(mse)\n",
    "```  \n"
   ]
  },
  {
   "cell_type": "code",
   "execution_count": 158,
   "metadata": {},
   "outputs": [
    {
     "name": "stdout",
     "output_type": "stream",
     "text": [
      "Epoch 0 MSE = 19.612455\n",
      "Epoch 100 MSE = 1.3545243\n",
      "Epoch 200 MSE = 0.8315496\n",
      "Epoch 300 MSE = 0.54158574\n",
      "Epoch 400 MSE = 0.3808158\n",
      "Epoch 500 MSE = 0.29167664\n",
      "Epoch 600 MSE = 0.24225356\n",
      "Epoch 700 MSE = 0.21485056\n",
      "Epoch 800 MSE = 0.19965717\n",
      "Epoch 900 MSE = 0.19123314\n",
      "Best theta:\n",
      "[[4.660542  ]\n",
      " [0.54031867]]\n"
     ]
    }
   ],
   "source": [
    "tf.reset_default_graph()\n",
    "\n",
    "n_epochs = 1000\n",
    "learning_rate = 0.01\n",
    "\n",
    "X = tf.constant(data_plus_bias, dtype=tf.float32, name=\"X\")\n",
    "y = tf.constant(y_train.reshape(-1, 1), dtype=tf.float32, name=\"y\")\n",
    "theta = tf.Variable(tf.random_uniform([data_n, 1], -1.0, 1.0, seed=42), name=\"theta\")\n",
    "\n",
    "y_pred = tf.matmul(X, theta, name=\"predictions\")\n",
    "error = y_pred - y\n",
    "mse = tf.reduce_mean(tf.square(error), name=\"mse\")\n",
    "\n",
    "optimizer = tf.train.GradientDescentOptimizer(learning_rate=learning_rate)\n",
    "training_op = optimizer.minimize(mse)\n",
    "\n",
    "\n",
    "init = tf.global_variables_initializer()\n",
    "\n",
    "with tf.Session() as sess:\n",
    "    sess.run(init)\n",
    "\n",
    "    for epoch in range(n_epochs):\n",
    "        if epoch % 100 == 0:\n",
    "            print(\"Epoch\", epoch, \"MSE =\", mse.eval())\n",
    "        sess.run(training_op)\n",
    "    \n",
    "    best_theta = theta.eval()\n",
    "\n",
    "print(\"Best theta:\")\n",
    "print(best_theta)"
   ]
  },
  {
   "cell_type": "code",
   "execution_count": 159,
   "metadata": {},
   "outputs": [
    {
     "data": {
      "image/png": "[encoded data removed]",
      "text/plain": [
       "<Figure size 432x288 with 1 Axes>"
      ]
     },
     "metadata": {},
     "output_type": "display_data"
    }
   ],
   "source": [
    "f_lr = lambda x: best_theta[1] * x + best_theta[0]\n",
    "\n",
    "x_f_lr = np.linspace(0., 6, 200)\n",
    "y_f_lr = f_lr(x_f_lr)\n",
    "plt.plot(x_f_lr, y_f_lr, 'g');\n",
    "plt.plot(X_train, y_train, 'bo');\n",
    "plt.show()"
   ]
  },
  {
   "cell_type": "markdown",
   "metadata": {},
   "source": [
    "Jeśli chcesz użyć innego rodzaju optymalizatora, wystarczy zmienić jedną linię. Na przykład, możesz użyć optymalizatora momentum\n",
    "\n",
    "```python\n",
    "optimizer = tf.train.MomentumOptimizer(learning_rate=learning_rate, momentum=0.9)\n",
    "training_op = optimizer.minimize(mse)\n",
    "```"
   ]
  },
  {
   "cell_type": "code",
   "execution_count": 160,
   "metadata": {},
   "outputs": [
    {
     "name": "stdout",
     "output_type": "stream",
     "text": [
      "Epoch 0 MSE = 19.612455\n",
      "Epoch 100 MSE = 0.18110882\n",
      "Epoch 200 MSE = 0.18075033\n",
      "Epoch 300 MSE = 0.18075036\n",
      "Epoch 400 MSE = 0.18075037\n",
      "Epoch 500 MSE = 0.18075036\n",
      "Epoch 600 MSE = 0.18075037\n",
      "Epoch 700 MSE = 0.18075036\n",
      "Epoch 800 MSE = 0.18075037\n",
      "Epoch 900 MSE = 0.18075037\n",
      "Best theta:\n",
      "[[4.853055 ]\n",
      " [0.4911539]]\n"
     ]
    }
   ],
   "source": [
    "tf.reset_default_graph()\n",
    "\n",
    "n_epochs = 1000\n",
    "learning_rate = 0.01\n",
    "\n",
    "X = tf.constant(data_plus_bias, dtype=tf.float32, name=\"X\")\n",
    "y = tf.constant(y_train.reshape(-1, 1), dtype=tf.float32, name=\"y\")\n",
    "theta = tf.Variable(tf.random_uniform([data_n, 1], -1.0, 1.0, seed=42), name=\"theta\")\n",
    "\n",
    "y_pred = tf.matmul(X, theta, name=\"predictions\")\n",
    "error = y_pred - y\n",
    "mse = tf.reduce_mean(tf.square(error), name=\"mse\")\n",
    "\n",
    "optimizer = tf.train.MomentumOptimizer(learning_rate=learning_rate, momentum=0.9)\n",
    "training_op = optimizer.minimize(mse)\n",
    "\n",
    "\n",
    "init = tf.global_variables_initializer()\n",
    "\n",
    "with tf.Session() as sess:\n",
    "    sess.run(init)\n",
    "\n",
    "    for epoch in range(n_epochs):\n",
    "        if epoch % 100 == 0:\n",
    "            print(\"Epoch\", epoch, \"MSE =\", mse.eval())\n",
    "        sess.run(training_op)\n",
    "    \n",
    "    best_theta = theta.eval()\n",
    "\n",
    "print(\"Best theta:\")\n",
    "print(best_theta)"
   ]
  },
  {
   "cell_type": "code",
   "execution_count": 161,
   "metadata": {},
   "outputs": [
    {
     "data": {
      "image/png": "[encoded data removed]",
      "text/plain": [
       "<Figure size 432x288 with 1 Axes>"
      ]
     },
     "metadata": {},
     "output_type": "display_data"
    }
   ],
   "source": [
    "f_lr = lambda x: best_theta[1] * x + best_theta[0]\n",
    "\n",
    "x_f_lr = np.linspace(0., 6, 200)\n",
    "y_f_lr = f_lr(x_f_lr)\n",
    "plt.plot(x_f_lr, y_f_lr, 'g');\n",
    "plt.plot(X_train, y_train, 'bo');\n",
    "plt.show()"
   ]
  },
  {
   "cell_type": "markdown",
   "metadata": {},
   "source": [
    "# Zad.\n",
    "Proszę narysować wykres zmiany funkcji kosztu w przypadku:\n",
    "\n",
    "  * Gradient Descent\n",
    "  * Momentum"
   ]
  },
  {
   "cell_type": "code",
   "execution_count": 126,
   "metadata": {},
   "outputs": [
    {
     "name": "stdout",
     "output_type": "stream",
     "text": [
      "Epoch 0 MSE = 19.612455\n",
      "Epoch 100 MSE = 1.3545243\n",
      "Epoch 200 MSE = 0.8315496\n",
      "Epoch 300 MSE = 0.54158574\n",
      "Epoch 400 MSE = 0.3808158\n",
      "Epoch 500 MSE = 0.29167664\n",
      "Epoch 600 MSE = 0.24225356\n",
      "Epoch 700 MSE = 0.21485056\n",
      "Epoch 800 MSE = 0.19965717\n",
      "Epoch 900 MSE = 0.19123314\n",
      "Best theta:\n",
      "[[4.660542  ]\n",
      " [0.54031867]]\n"
     ]
    }
   ],
   "source": [
    "tf.reset_default_graph()\n",
    "\n",
    "n_epochs = 1000\n",
    "learning_rate = 0.01\n",
    "error_array_g=[]\n",
    "error_array_m=[]\n",
    "\n",
    "X = tf.constant(data_plus_bias, dtype=tf.float32, name=\"X\")\n",
    "y = tf.constant(y_train.reshape(-1, 1), dtype=tf.float32, name=\"y\")\n",
    "theta = tf.Variable(tf.random_uniform([data_n, 1], -1.0, 1.0, seed=42), name=\"theta\")\n",
    "\n",
    "y_pred = tf.matmul(X, theta, name=\"predictions\")\n",
    "error = y_pred - y\n",
    "mse = tf.reduce_mean(tf.square(error), name=\"mse\")\n",
    "\n",
    "optimizer = tf.train.GradientDescentOptimizer(learning_rate=learning_rate)\n",
    "training_op = optimizer.minimize(mse)\n",
    "\n",
    "\n",
    "init = tf.global_variables_initializer()\n",
    "\n",
    "with tf.Session() as sess:\n",
    "    sess.run(init)\n",
    "\n",
    "    for epoch in range(n_epochs):\n",
    "        if epoch % 100 == 0:\n",
    "            print(\"Epoch\", epoch, \"MSE =\", mse.eval())\n",
    "        error_array_g.append(mse.eval()) \n",
    "        sess.run(training_op)\n",
    "    \n",
    "    best_theta = theta.eval()\n",
    "\n",
    "print(\"Best theta:\")\n",
    "print(best_theta)"
   ]
  },
  {
   "cell_type": "code",
   "execution_count": 127,
   "metadata": {},
   "outputs": [
    {
     "name": "stdout",
     "output_type": "stream",
     "text": [
      "Epoch 0 MSE = 19.612455\n",
      "Epoch 100 MSE = 0.18110882\n",
      "Epoch 200 MSE = 0.18075033\n",
      "Epoch 300 MSE = 0.18075036\n",
      "Epoch 400 MSE = 0.18075037\n",
      "Epoch 500 MSE = 0.18075036\n",
      "Epoch 600 MSE = 0.18075037\n",
      "Epoch 700 MSE = 0.18075036\n",
      "Epoch 800 MSE = 0.18075037\n",
      "Epoch 900 MSE = 0.18075037\n",
      "Best theta:\n",
      "[[4.853055 ]\n",
      " [0.4911539]]\n"
     ]
    }
   ],
   "source": [
    "tf.reset_default_graph()\n",
    "\n",
    "X = tf.constant(data_plus_bias, dtype=tf.float32, name=\"X\")\n",
    "y = tf.constant(y_train.reshape(-1, 1), dtype=tf.float32, name=\"y\")\n",
    "theta = tf.Variable(tf.random_uniform([data_n, 1], -1.0, 1.0, seed=42), name=\"theta\")\n",
    "\n",
    "y_pred = tf.matmul(X, theta, name=\"predictions\")\n",
    "error = y_pred - y\n",
    "mse = tf.reduce_mean(tf.square(error), name=\"mse\")\n",
    "\n",
    "optimizer = tf.train.MomentumOptimizer(learning_rate=learning_rate, momentum=0.9)\n",
    "training_op = optimizer.minimize(mse)\n",
    "\n",
    "\n",
    "init = tf.global_variables_initializer()\n",
    "\n",
    "with tf.Session() as sess:\n",
    "    sess.run(init)\n",
    "\n",
    "    for epoch in range(n_epochs):\n",
    "        if epoch % 100 == 0:\n",
    "            print(\"Epoch\", epoch, \"MSE =\", mse.eval())\n",
    "        error_array_m.append(mse.eval()) \n",
    "        sess.run(training_op)\n",
    "    \n",
    "    best_theta = theta.eval()\n",
    "\n",
    "print(\"Best theta:\")\n",
    "print(best_theta)"
   ]
  },
  {
   "cell_type": "code",
   "execution_count": 128,
   "metadata": {},
   "outputs": [
    {
     "data": {
      "image/png": "[encoded data removed]",
      "text/plain": [
       "<Figure size 432x288 with 1 Axes>"
      ]
     },
     "metadata": {},
     "output_type": "display_data"
    }
   ],
   "source": [
    "plt.figure()\n",
    "plt.plot(error_array_g, label='Gradient Descent')\n",
    "plt.plot(error_array_m, label='Momentum')\n",
    "plt.xlabel('Epoch')\n",
    "plt.ylabel('MSE')\n",
    "plt.legend()\n",
    "plt.show()"
   ]
  },
  {
   "cell_type": "code",
   "execution_count": 129,
   "metadata": {},
   "outputs": [
    {
     "data": {
      "image/png": "[encoded data removed]",
      "text/plain": [
       "<Figure size 432x288 with 1 Axes>"
      ]
     },
     "metadata": {},
     "output_type": "display_data"
    }
   ],
   "source": [
    "plt.figure()\n",
    "plt.semilogy(error_array_g, label='Gradient Descent')\n",
    "plt.semilogy(error_array_m, label='Momentum')\n",
    "plt.xlabel('Epoch')\n",
    "plt.ylabel('MSE')\n",
    "plt.legend()\n",
    "plt.show()"
   ]
  },
  {
   "cell_type": "markdown",
   "metadata": {},
   "source": [
    "# Warstwa typu placeholder\n",
    "\n",
    "Warstwa typu placeholder pozwala na dynamiczne dostarczanie danych"
   ]
  },
  {
   "cell_type": "code",
   "execution_count": 130,
   "metadata": {},
   "outputs": [
    {
     "name": "stdout",
     "output_type": "stream",
     "text": [
      "[[6. 7. 8.]]\n",
      "[[ 9. 10. 11.]\n",
      " [12. 13. 14.]]\n"
     ]
    }
   ],
   "source": [
    "tf.reset_default_graph()\n",
    "\n",
    "A = tf.placeholder(tf.float32, shape=(None, 3))\n",
    "B = A + 5\n",
    "with tf.Session() as sess:\n",
    "    B_val_1 = B.eval(feed_dict={A: [[1, 2, 3]]})\n",
    "    B_val_2 = B.eval(feed_dict={A: [[4, 5, 6], [7, 8, 9]]})\n",
    "\n",
    "print(B_val_1)\n",
    "print(B_val_2)"
   ]
  },
  {
   "cell_type": "markdown",
   "metadata": {},
   "source": [
    "#  Mini-batch Gradient Descent.\n",
    "\n",
    "Spróbujmy zmodyfikować poprzedni kod, aby zaimplementować **Mini-batch Gradient Descent**.\n",
    "\n",
    "  * W tym celu potrzebujemy sposobu na zastąpienie $X$ i $y$ przy każdej iteracji następną mini-serią.\n",
    "  * Najprostszym sposobem na to jest użycie węzłów typu **placeholder**.\n",
    "  * Węzły te są specjalne, ponieważ w rzeczywistości nie wykonują żadnych obliczeń, po prostu wyprowadzają dane, które przekazują do działania w środowisku."
   ]
  },
  {
   "cell_type": "code",
   "execution_count": 162,
   "metadata": {},
   "outputs": [],
   "source": [
    "tf.reset_default_graph()\n",
    "\n",
    "n_epochs = 1000\n",
    "learning_rate = 0.01\n",
    "\n",
    "X = tf.placeholder(tf.float32, shape=(None, data_n), name=\"X\")\n",
    "y = tf.placeholder(tf.float32, shape=(None, 1), name=\"y\")\n",
    "\n",
    "theta = tf.Variable(tf.random_uniform([data_n, 1], -1.0, 1.0, seed=42), name=\"theta\")\n",
    "y_pred = tf.matmul(X, theta, name=\"predictions\")\n",
    "error = y_pred - y\n",
    "mse = tf.reduce_mean(tf.square(error), name=\"mse\")\n",
    "optimizer = tf.train.GradientDescentOptimizer(learning_rate=learning_rate)\n",
    "training_op = optimizer.minimize(mse)\n",
    "\n",
    "init = tf.global_variables_initializer()"
   ]
  },
  {
   "cell_type": "code",
   "execution_count": 163,
   "metadata": {},
   "outputs": [
    {
     "name": "stdout",
     "output_type": "stream",
     "text": [
      "Epoch 0 MSE = 12.097157\n",
      "Epoch 10 MSE = 2.0466433\n",
      "Epoch 20 MSE = 1.6781869\n",
      "Epoch 30 MSE = 1.7865386\n",
      "Epoch 40 MSE = 1.6996499\n",
      "Epoch 50 MSE = 2.2697115\n",
      "Epoch 60 MSE = 2.0013037\n",
      "Epoch 70 MSE = 1.3288851\n",
      "Epoch 80 MSE = 1.3103607\n",
      "Epoch 90 MSE = 1.6212525\n",
      "Epoch 100 MSE = 1.1508999\n",
      "Epoch 110 MSE = 1.4819145\n",
      "Epoch 120 MSE = 1.2671795\n",
      "Epoch 130 MSE = 0.9977313\n",
      "Epoch 140 MSE = 1.1898271\n",
      "Epoch 150 MSE = 1.0487572\n",
      "Epoch 160 MSE = 0.7093979\n",
      "Epoch 170 MSE = 1.0229049\n",
      "Epoch 180 MSE = 0.43554628\n",
      "Epoch 190 MSE = 0.89501345\n",
      "Epoch 200 MSE = 0.8880118\n",
      "Epoch 210 MSE = 0.90786755\n",
      "Epoch 220 MSE = 0.8588608\n",
      "Epoch 230 MSE = 0.5839655\n",
      "Epoch 240 MSE = 0.65657693\n",
      "Epoch 250 MSE = 0.64517707\n",
      "Epoch 260 MSE = 0.50037426\n",
      "Epoch 270 MSE = 0.6631206\n",
      "Epoch 280 MSE = 0.76275206\n",
      "Epoch 290 MSE = 0.44752637\n",
      "Epoch 300 MSE = 0.4714136\n",
      "Epoch 310 MSE = 0.5403518\n",
      "Epoch 320 MSE = 0.43073872\n",
      "Epoch 330 MSE = 0.4121586\n",
      "Epoch 340 MSE = 0.56471807\n",
      "Epoch 350 MSE = 0.436838\n",
      "Epoch 360 MSE = 0.44344163\n",
      "Epoch 370 MSE = 0.30336383\n",
      "Epoch 380 MSE = 0.4249835\n",
      "Epoch 390 MSE = 0.40718955\n",
      "Epoch 400 MSE = 0.34859473\n",
      "Epoch 410 MSE = 0.3809985\n",
      "Epoch 420 MSE = 0.32606858\n",
      "Epoch 430 MSE = 0.40269214\n",
      "Epoch 440 MSE = 0.2543152\n",
      "Epoch 450 MSE = 0.32014436\n",
      "Epoch 460 MSE = 0.31846455\n",
      "Epoch 470 MSE = 0.27643922\n",
      "Epoch 480 MSE = 0.36768544\n",
      "Epoch 490 MSE = 0.299561\n",
      "Epoch 500 MSE = 0.29669154\n",
      "Epoch 510 MSE = 0.29363605\n",
      "Epoch 520 MSE = 0.25836897\n",
      "Epoch 530 MSE = 0.33036417\n",
      "Epoch 540 MSE = 0.28218168\n",
      "Epoch 550 MSE = 0.22620064\n",
      "Epoch 560 MSE = 0.24752027\n",
      "Epoch 570 MSE = 0.18436494\n",
      "Epoch 580 MSE = 0.2294242\n",
      "Epoch 590 MSE = 0.25688395\n",
      "Epoch 600 MSE = 0.19559914\n",
      "Epoch 610 MSE = 0.15725754\n",
      "Epoch 620 MSE = 0.2561756\n",
      "Epoch 630 MSE = 0.2155385\n",
      "Epoch 640 MSE = 0.26072392\n",
      "Epoch 650 MSE = 0.22066522\n",
      "Epoch 660 MSE = 0.19310746\n",
      "Epoch 670 MSE = 0.2024863\n",
      "Epoch 680 MSE = 0.2985265\n",
      "Epoch 690 MSE = 0.21210344\n",
      "Epoch 700 MSE = 0.1530667\n",
      "Epoch 710 MSE = 0.25074908\n",
      "Epoch 720 MSE = 0.17033206\n",
      "Epoch 730 MSE = 0.18004057\n",
      "Epoch 740 MSE = 0.25627077\n",
      "Epoch 750 MSE = 0.18796182\n",
      "Epoch 760 MSE = 0.22149193\n",
      "Epoch 770 MSE = 0.26008332\n",
      "Epoch 780 MSE = 0.19057485\n",
      "Epoch 790 MSE = 0.19751842\n",
      "Epoch 800 MSE = 0.17522311\n",
      "Epoch 810 MSE = 0.1899606\n",
      "Epoch 820 MSE = 0.1838556\n",
      "Epoch 830 MSE = 0.19342789\n",
      "Epoch 840 MSE = 0.1794236\n",
      "Epoch 850 MSE = 0.19076726\n",
      "Epoch 860 MSE = 0.16964406\n",
      "Epoch 870 MSE = 0.18216795\n",
      "Epoch 880 MSE = 0.20079869\n",
      "Epoch 890 MSE = 0.23260519\n",
      "Epoch 900 MSE = 0.19383548\n",
      "Epoch 910 MSE = 0.16151188\n",
      "Epoch 920 MSE = 0.19499195\n",
      "Epoch 930 MSE = 0.14011362\n",
      "Epoch 940 MSE = 0.22033328\n",
      "Epoch 950 MSE = 0.22857472\n",
      "Epoch 960 MSE = 0.1751605\n",
      "Epoch 970 MSE = 0.1920293\n",
      "Epoch 980 MSE = 0.18000847\n",
      "Epoch 990 MSE = 0.21115738\n",
      "Best theta:\n",
      "[[4.659411 ]\n",
      " [0.5371784]]\n"
     ]
    }
   ],
   "source": [
    "n_epochs = 1000\n",
    "batch_size = 64\n",
    "\n",
    "n_batches = int(np.ceil(data_m / batch_size))\n",
    "\n",
    "#from sklearn.utils import shuffle\n",
    "#shuffled_input = shuffle(input_x)\n",
    "#X_batches = np.array_split(shuffled_input, iterations_in_epoch)\n",
    "\n",
    "def fetch_batch(epoch, batch_index, batch_size, m):\n",
    "    np.random.seed(epoch * n_batches + batch_index)  \n",
    "    indices = np.random.randint(m, size=batch_size)  \n",
    "    X_batch = data_plus_bias[indices] \n",
    "    y_batch = y_train[indices] \n",
    "    return X_batch, y_batch\n",
    "\n",
    "saver = tf.train.Saver()\n",
    "with tf.Session() as sess:\n",
    "    sess.run(init)\n",
    "\n",
    "    for epoch in range(n_epochs):\n",
    "        for batch_index in range(n_batches):\n",
    "            X_batch, y_batch = fetch_batch(epoch, batch_index, batch_size, data_m)\n",
    "            sess.run(training_op, feed_dict={X: X_batch, y: y_batch})\n",
    "        if epoch % 10 == 0:\n",
    "            print(\"Epoch\", epoch, \"MSE =\", sess.run( mse, feed_dict={X: X_batch, y: y_batch}) )   \n",
    "\n",
    "    best_theta = theta.eval()\n",
    "    save_path = saver.save(sess, \"/tmp/my_model_final.ckpt\")\n",
    "    \n",
    "print(\"Best theta:\")\n",
    "print(best_theta)"
   ]
  },
  {
   "cell_type": "code",
   "execution_count": 164,
   "metadata": {},
   "outputs": [
    {
     "data": {
      "image/png": "[encoded data removed]",
      "text/plain": [
       "<Figure size 432x288 with 1 Axes>"
      ]
     },
     "metadata": {},
     "output_type": "display_data"
    }
   ],
   "source": [
    "f_lr = lambda x: best_theta[1] * x + best_theta[0]\n",
    "\n",
    "x_f_lr = np.linspace(0., 6, 200)\n",
    "y_f_lr = f_lr(x_f_lr)\n",
    "plt.plot(x_f_lr, y_f_lr, 'g');\n",
    "plt.plot(X_train, y_train, 'bo');\n",
    "plt.show()"
   ]
  },
  {
   "cell_type": "markdown",
   "metadata": {},
   "source": [
    "# Zad.\n",
    "Proszę narysować wykres zmiany funkcji kosztu w przypadku:\n",
    "  * Gradient Descent\n",
    "  * Momentum"
   ]
  },
  {
   "cell_type": "code",
   "execution_count": 133,
   "metadata": {},
   "outputs": [
    {
     "name": "stdout",
     "output_type": "stream",
     "text": [
      "Epoch 0 MSE = 12.097157\n",
      "Epoch 100 MSE = 1.1508999\n",
      "Epoch 200 MSE = 0.8880118\n",
      "Epoch 300 MSE = 0.4714136\n",
      "Epoch 400 MSE = 0.34859473\n",
      "Epoch 500 MSE = 0.29669154\n",
      "Epoch 600 MSE = 0.19559914\n",
      "Epoch 700 MSE = 0.1530667\n",
      "Epoch 800 MSE = 0.17522311\n",
      "Epoch 900 MSE = 0.19383548\n",
      "Best theta:\n",
      "[[4.659411 ]\n",
      " [0.5371784]]\n"
     ]
    }
   ],
   "source": [
    "tf.reset_default_graph()\n",
    "\n",
    "n_epochs = 1000\n",
    "learning_rate = 0.01\n",
    "\n",
    "error_array_g_b=[]\n",
    "error_array_m_b=[]\n",
    "\n",
    "batch_error_array_g=[]\n",
    "batch_error_array_m=[]\n",
    "\n",
    "X = tf.placeholder(tf.float32, shape=(None, data_n), name=\"X\")\n",
    "y = tf.placeholder(tf.float32, shape=(None, 1), name=\"y\")\n",
    "\n",
    "theta = tf.Variable(tf.random_uniform([data_n, 1], -1.0, 1.0, seed=42), name=\"theta\")\n",
    "y_pred = tf.matmul(X, theta, name=\"predictions\")\n",
    "error = y_pred - y\n",
    "mse = tf.reduce_mean(tf.square(error), name=\"mse\")\n",
    "optimizer = tf.train.GradientDescentOptimizer(learning_rate=learning_rate)\n",
    "training_op = optimizer.minimize(mse)\n",
    "\n",
    "init = tf.global_variables_initializer()\n",
    "\n",
    "n_epochs = 1000\n",
    "batch_size = 64\n",
    "\n",
    "n_batches = int(np.ceil(data_m / batch_size))\n",
    "\n",
    "def fetch_batch(epoch, batch_index, batch_size, m):\n",
    "    np.random.seed(epoch * n_batches + batch_index)  \n",
    "    indices = np.random.randint(m, size=batch_size)  \n",
    "    X_batch = data_plus_bias[indices] \n",
    "    y_batch = y_train[indices] \n",
    "    return X_batch, y_batch\n",
    "\n",
    "saver = tf.train.Saver()\n",
    "with tf.Session() as sess:\n",
    "    sess.run(init)\n",
    "\n",
    "    for epoch in range(n_epochs):\n",
    "        for batch_index in range(n_batches):\n",
    "            X_batch, y_batch = fetch_batch(epoch, batch_index, batch_size, data_m)\n",
    "            sess.run(training_op, feed_dict={X: X_batch, y: y_batch})\n",
    "        if epoch % 100 == 0:\n",
    "            print(\"Epoch\", epoch, \"MSE =\", sess.run( mse, feed_dict={X: X_batch, y: y_batch}) )   \n",
    "        \n",
    "            batch_error_array_g.append( sess.run( mse, feed_dict={X: X_batch, y: y_batch}) )\n",
    "            error_array_g_b.append( sess.run( mse, feed_dict={X: data_plus_bias, y: y_train}) )            \n",
    "    \n",
    "    best_theta = theta.eval()\n",
    "    save_path = saver.save(sess, \"/tmp/my_model_final.ckpt\")\n",
    "    \n",
    "print(\"Best theta:\")\n",
    "print(best_theta)"
   ]
  },
  {
   "cell_type": "code",
   "execution_count": 134,
   "metadata": {},
   "outputs": [
    {
     "name": "stdout",
     "output_type": "stream",
     "text": [
      "Epoch 0 MSE = 12.097157\n",
      "Epoch 100 MSE = 0.17924872\n",
      "Epoch 200 MSE = 0.19238098\n",
      "Epoch 300 MSE = 0.15407556\n",
      "Epoch 400 MSE = 0.19533752\n",
      "Epoch 500 MSE = 0.19952081\n",
      "Epoch 600 MSE = 0.18004185\n",
      "Epoch 700 MSE = 0.14085622\n",
      "Epoch 800 MSE = 0.15857491\n",
      "Epoch 900 MSE = 0.18083863\n",
      "Best theta:\n",
      "[[4.8188486 ]\n",
      " [0.48695064]]\n"
     ]
    }
   ],
   "source": [
    "tf.reset_default_graph()\n",
    "\n",
    "n_epochs = 1000\n",
    "learning_rate = 0.01\n",
    "\n",
    "X = tf.placeholder(tf.float32, shape=(None, data_n), name=\"X\")\n",
    "y = tf.placeholder(tf.float32, shape=(None, 1), name=\"y\")\n",
    "\n",
    "theta = tf.Variable(tf.random_uniform([data_n, 1], -1.0, 1.0, seed=42), name=\"theta\")\n",
    "y_pred = tf.matmul(X, theta, name=\"predictions\")\n",
    "error = y_pred - y\n",
    "mse = tf.reduce_mean(tf.square(error), name=\"mse\")\n",
    "optimizer = tf.train.MomentumOptimizer(learning_rate=learning_rate, momentum=0.9)\n",
    "training_op = optimizer.minimize(mse)\n",
    "\n",
    "init = tf.global_variables_initializer()\n",
    "\n",
    "n_epochs = 1000\n",
    "batch_size = 64\n",
    "\n",
    "n_batches = int(np.ceil(data_m / batch_size))\n",
    "\n",
    "def fetch_batch(epoch, batch_index, batch_size, m):\n",
    "    np.random.seed(epoch * n_batches + batch_index)  \n",
    "    indices = np.random.randint(m, size=batch_size)  \n",
    "    X_batch = data_plus_bias[indices] \n",
    "    y_batch = y_train[indices] \n",
    "    return X_batch, y_batch\n",
    "\n",
    "saver = tf.train.Saver()\n",
    "with tf.Session() as sess:\n",
    "    sess.run(init)\n",
    "\n",
    "    for epoch in range(n_epochs):\n",
    "        for batch_index in range(n_batches):\n",
    "            X_batch, y_batch = fetch_batch(epoch, batch_index, batch_size, data_m)\n",
    "            sess.run(training_op, feed_dict={X: X_batch, y: y_batch})\n",
    "        if epoch % 100 == 0:\n",
    "            print(\"Epoch\", epoch, \"MSE =\", sess.run( mse, feed_dict={X: X_batch, y: y_batch}) )   \n",
    "        \n",
    "            batch_error_array_m.append( sess.run( mse, feed_dict={X: X_batch, y: y_batch}) )\n",
    "            error_array_m_b.append( sess.run( mse, feed_dict={X: data_plus_bias, y: y_train}) )            \n",
    "    \n",
    "    best_theta = theta.eval()\n",
    "    save_path = saver.save(sess, \"/tmp/my_model_final.ckpt\")\n",
    "    \n",
    "print(\"Best theta:\")\n",
    "print(best_theta)"
   ]
  },
  {
   "cell_type": "code",
   "execution_count": 135,
   "metadata": {},
   "outputs": [
    {
     "data": {
      "image/png": "[encoded data removed]",
      "text/plain": [
       "<Figure size 432x288 with 1 Axes>"
      ]
     },
     "metadata": {},
     "output_type": "display_data"
    }
   ],
   "source": [
    "plt.figure()\n",
    "plt.semilogy(error_array_g, label='Gradient Descent')\n",
    "plt.semilogy(error_array_m, label='Momentum')\n",
    "plt.semilogy(error_array_g_b, label='Batch Gradient Descent')\n",
    "plt.semilogy(error_array_m_b, label='Batch Momentum')\n",
    "plt.xlabel('Epoch')\n",
    "plt.ylabel('MSE')\n",
    "plt.legend()\n",
    "plt.show()"
   ]
  },
  {
   "cell_type": "code",
   "execution_count": 136,
   "metadata": {},
   "outputs": [
    {
     "data": {
      "image/png": "[encoded data removed]",
      "text/plain": [
       "<Figure size 432x288 with 1 Axes>"
      ]
     },
     "metadata": {},
     "output_type": "display_data"
    }
   ],
   "source": [
    "plt.figure()\n",
    "plt.semilogy(batch_error_array_g, label='Gradient Descent')\n",
    "plt.semilogy(batch_error_array_m, label='Momentum')\n",
    "plt.xlabel('Epoch')\n",
    "plt.ylabel('Batch MSE')\n",
    "plt.legend()\n",
    "plt.show()"
   ]
  },
  {
   "cell_type": "code",
   "execution_count": null,
   "metadata": {},
   "outputs": [],
   "source": []
  },
  {
   "cell_type": "code",
   "execution_count": null,
   "metadata": {},
   "outputs": [],
   "source": []
  },
  {
   "cell_type": "code",
   "execution_count": null,
   "metadata": {},
   "outputs": [],
   "source": []
  }
 ],
 "metadata": {
  "kernelspec": {
   "display_name": "Python 3",
   "language": "python",
   "name": "python3"
  },
  "language_info": {
   "codemirror_mode": {
    "name": "ipython",
    "version": 3
   },
   "file_extension": ".py",
   "mimetype": "text/x-python",
   "name": "python",
   "nbconvert_exporter": "python",
   "pygments_lexer": "ipython3",
   "version": "3.6.5"
  }
 },
 "nbformat": 4,
 "nbformat_minor": 2
}
