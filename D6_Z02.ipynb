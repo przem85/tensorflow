{
 "cells": [
  {
   "cell_type": "code",
   "execution_count": 1,
   "metadata": {},
   "outputs": [
    {
     "name": "stderr",
     "output_type": "stream",
     "text": [
      "C:\\Users\\admin\\Anaconda3\\lib\\site-packages\\h5py\\__init__.py:34: FutureWarning: Conversion of the second argument of issubdtype from `float` to `np.floating` is deprecated. In future, it will be treated as `np.float64 == np.dtype(float).type`.\n",
      "  from ._conv import register_converters as _register_converters\n"
     ]
    }
   ],
   "source": [
    "# # To support both python 2 and python 3# To su \n",
    "# from __future__ import division, print_function, unicode_literals\n",
    "\n",
    "# Common imports\n",
    "import numpy as np\n",
    "import os\n",
    "\n",
    "# To plot pretty figures\n",
    "%matplotlib inline\n",
    "import matplotlib\n",
    "import matplotlib.pyplot as plt\n",
    "\n",
    "import tensorflow as tf"
   ]
  },
  {
   "cell_type": "markdown",
   "metadata": {},
   "source": [
    "# Nauczmy RNN, który będzie klasyfikował obrazy MNIST.\n",
    "* Conwolucyjna sieć neuronowa (CNN) lepiej pasuje do klasyfikacji obrazów, ale taki przykład pokaże nam jak taką siec można użyć w praktyce.\n",
    "* Każdy obraz potraktujemy jako ciąg 28 wierszy po 28 pikseli każdy (ponieważ każdy obraz MNIST to 28 × 28 pikseli).\n",
    "* Użyjemy warst składających się 150 ewkurencyjnych neuronów oraz warstwy fully connected zawierającej 10 neuronów wyjściowych (jeden na każdą klasę) połączonych z wyjściem z ostatniego kroku czasowego, a następnie warstwę softmax layer."
   ]
  },
  {
   "cell_type": "markdown",
   "metadata": {},
   "source": [
    "  * Faza budowy jest dość prosta i jest prawie taka sam jak w klasyfikator MNIST (CNN)\n",
    "  * Z tą różnicą, że RNN zastępuje ukryte warstwy. \n",
    "  * Należy zauważyć, że waretwa fully connected jest połączona z tensorem stanów, który zawiera tylko stan końcowy RNN (tj. 28 wyjście). \n",
    "  * Zauważ także, że y jest symbolem zastępczym dla klas docelowych."
   ]
  },
  {
   "cell_type": "code",
   "execution_count": 3,
   "metadata": {
    "collapsed": true
   },
   "outputs": [],
   "source": [
    "tf.reset_default_graph()\n",
    "\n",
    "n_steps = 28\n",
    "n_inputs = 28\n",
    "n_neurons = 150\n",
    "n_outputs = 10\n",
    "\n",
    "learning_rate = 0.001\n",
    "\n",
    "X = tf.placeholder(tf.float32, [None, n_steps, n_inputs])\n",
    "y = tf.placeholder(tf.int32, [None])\n",
    "\n",
    "basic_cell = tf.contrib.rnn.BasicRNNCell(num_units=n_neurons)\n",
    "outputs, states = tf.nn.dynamic_rnn(basic_cell, X, dtype=tf.float32)\n",
    "\n",
    "logits = tf.layers.dense(states, n_outputs)\n",
    "xentropy = tf.nn.sparse_softmax_cross_entropy_with_logits(labels=y,\n",
    "                                                          logits=logits)\n",
    "loss = tf.reduce_mean(xentropy)\n",
    "optimizer = tf.train.AdamOptimizer(learning_rate=learning_rate)\n",
    "training_op = optimizer.minimize(loss)\n",
    "correct = tf.nn.in_top_k(logits, y, 1)\n",
    "accuracy = tf.reduce_mean(tf.cast(correct, tf.float32))\n",
    "\n",
    "init = tf.global_variables_initializer()"
   ]
  },
  {
   "cell_type": "code",
   "execution_count": 4,
   "metadata": {},
   "outputs": [
    {
     "name": "stdout",
     "output_type": "stream",
     "text": [
      "Extracting /tmp/data/train-images-idx3-ubyte.gz\n",
      "Extracting /tmp/data/train-labels-idx1-ubyte.gz\n",
      "Extracting /tmp/data/t10k-images-idx3-ubyte.gz\n",
      "Extracting /tmp/data/t10k-labels-idx1-ubyte.gz\n"
     ]
    }
   ],
   "source": [
    "from tensorflow.examples.tutorials.mnist import input_data\n",
    "mnist = input_data.read_data_sets(\"/tmp/data/\")\n",
    "X_test = mnist.test.images.reshape((-1, n_steps, n_inputs))\n",
    "y_test = mnist.test.labels"
   ]
  },
  {
   "cell_type": "code",
   "execution_count": 11,
   "metadata": {},
   "outputs": [
    {
     "name": "stdout",
     "output_type": "stream",
     "text": [
      "0 Train accuracy: 0.92 Test accuracy: 0.9128\n",
      "1 Train accuracy: 0.97333336 Test accuracy: 0.9382\n",
      "2 Train accuracy: 0.98 Test accuracy: 0.9574\n",
      "3 Train accuracy: 0.9533333 Test accuracy: 0.9532\n",
      "4 Train accuracy: 0.99333334 Test accuracy: 0.9607\n",
      "5 Train accuracy: 0.9866667 Test accuracy: 0.9688\n",
      "6 Train accuracy: 0.9866667 Test accuracy: 0.9642\n",
      "7 Train accuracy: 0.97333336 Test accuracy: 0.9695\n",
      "8 Train accuracy: 0.9533333 Test accuracy: 0.9709\n",
      "9 Train accuracy: 0.9866667 Test accuracy: 0.9638\n",
      "10 Train accuracy: 0.98 Test accuracy: 0.9741\n",
      "11 Train accuracy: 0.9866667 Test accuracy: 0.9714\n",
      "12 Train accuracy: 0.99333334 Test accuracy: 0.9746\n",
      "13 Train accuracy: 0.97333336 Test accuracy: 0.9732\n",
      "14 Train accuracy: 1.0 Test accuracy: 0.9798\n",
      "15 Train accuracy: 0.99333334 Test accuracy: 0.9765\n",
      "16 Train accuracy: 0.9866667 Test accuracy: 0.9711\n",
      "17 Train accuracy: 0.99333334 Test accuracy: 0.9776\n",
      "18 Train accuracy: 0.9866667 Test accuracy: 0.9776\n",
      "19 Train accuracy: 0.9866667 Test accuracy: 0.9753\n",
      "20 Train accuracy: 0.99333334 Test accuracy: 0.9762\n",
      "21 Train accuracy: 0.99333334 Test accuracy: 0.9749\n",
      "22 Train accuracy: 0.9866667 Test accuracy: 0.9758\n",
      "23 Train accuracy: 0.9866667 Test accuracy: 0.9747\n",
      "24 Train accuracy: 0.99333334 Test accuracy: 0.979\n",
      "25 Train accuracy: 0.9866667 Test accuracy: 0.9757\n",
      "26 Train accuracy: 0.96 Test accuracy: 0.9769\n",
      "27 Train accuracy: 0.99333334 Test accuracy: 0.9774\n",
      "28 Train accuracy: 0.98 Test accuracy: 0.9801\n",
      "29 Train accuracy: 1.0 Test accuracy: 0.9783\n",
      "30 Train accuracy: 0.99333334 Test accuracy: 0.9741\n",
      "31 Train accuracy: 0.9866667 Test accuracy: 0.9764\n",
      "32 Train accuracy: 0.99333334 Test accuracy: 0.9781\n",
      "33 Train accuracy: 0.98 Test accuracy: 0.9776\n",
      "34 Train accuracy: 1.0 Test accuracy: 0.975\n",
      "35 Train accuracy: 1.0 Test accuracy: 0.9751\n",
      "36 Train accuracy: 1.0 Test accuracy: 0.9776\n",
      "37 Train accuracy: 0.9866667 Test accuracy: 0.9785\n",
      "38 Train accuracy: 1.0 Test accuracy: 0.9766\n",
      "39 Train accuracy: 1.0 Test accuracy: 0.9807\n",
      "40 Train accuracy: 0.98 Test accuracy: 0.9748\n",
      "41 Train accuracy: 0.99333334 Test accuracy: 0.9784\n",
      "42 Train accuracy: 0.9866667 Test accuracy: 0.9776\n",
      "43 Train accuracy: 0.99333334 Test accuracy: 0.9781\n",
      "44 Train accuracy: 0.9866667 Test accuracy: 0.9778\n",
      "45 Train accuracy: 1.0 Test accuracy: 0.9809\n",
      "46 Train accuracy: 0.99333334 Test accuracy: 0.9773\n",
      "47 Train accuracy: 0.99333334 Test accuracy: 0.9781\n",
      "48 Train accuracy: 0.99333334 Test accuracy: 0.9785\n",
      "49 Train accuracy: 1.0 Test accuracy: 0.9779\n",
      "50 Train accuracy: 1.0 Test accuracy: 0.9797\n",
      "51 Train accuracy: 0.99333334 Test accuracy: 0.9804\n",
      "52 Train accuracy: 0.9866667 Test accuracy: 0.9801\n",
      "53 Train accuracy: 0.97333336 Test accuracy: 0.9785\n",
      "54 Train accuracy: 1.0 Test accuracy: 0.98\n",
      "55 Train accuracy: 1.0 Test accuracy: 0.9787\n",
      "56 Train accuracy: 1.0 Test accuracy: 0.9797\n",
      "57 Train accuracy: 0.99333334 Test accuracy: 0.979\n",
      "58 Train accuracy: 1.0 Test accuracy: 0.9799\n",
      "59 Train accuracy: 1.0 Test accuracy: 0.9686\n",
      "60 Train accuracy: 0.99333334 Test accuracy: 0.9786\n",
      "61 Train accuracy: 0.99333334 Test accuracy: 0.9808\n",
      "62 Train accuracy: 0.97333336 Test accuracy: 0.9759\n",
      "63 Train accuracy: 1.0 Test accuracy: 0.9805\n",
      "64 Train accuracy: 0.9866667 Test accuracy: 0.9738\n",
      "65 Train accuracy: 0.9866667 Test accuracy: 0.9797\n",
      "66 Train accuracy: 1.0 Test accuracy: 0.9806\n",
      "67 Train accuracy: 1.0 Test accuracy: 0.9804\n",
      "68 Train accuracy: 0.99333334 Test accuracy: 0.9794\n",
      "69 Train accuracy: 0.99333334 Test accuracy: 0.9775\n",
      "70 Train accuracy: 0.98 Test accuracy: 0.978\n",
      "71 Train accuracy: 0.99333334 Test accuracy: 0.9679\n",
      "72 Train accuracy: 1.0 Test accuracy: 0.9794\n",
      "73 Train accuracy: 0.99333334 Test accuracy: 0.9737\n",
      "74 Train accuracy: 0.98 Test accuracy: 0.976\n",
      "75 Train accuracy: 1.0 Test accuracy: 0.979\n",
      "76 Train accuracy: 0.99333334 Test accuracy: 0.9791\n",
      "77 Train accuracy: 0.9866667 Test accuracy: 0.9803\n",
      "78 Train accuracy: 0.9866667 Test accuracy: 0.9777\n",
      "79 Train accuracy: 0.9866667 Test accuracy: 0.9755\n",
      "80 Train accuracy: 1.0 Test accuracy: 0.9764\n",
      "81 Train accuracy: 1.0 Test accuracy: 0.9765\n",
      "82 Train accuracy: 0.9866667 Test accuracy: 0.9792\n",
      "83 Train accuracy: 1.0 Test accuracy: 0.9765\n",
      "84 Train accuracy: 0.9866667 Test accuracy: 0.9759\n",
      "85 Train accuracy: 0.99333334 Test accuracy: 0.9754\n",
      "86 Train accuracy: 1.0 Test accuracy: 0.9757\n",
      "87 Train accuracy: 1.0 Test accuracy: 0.9767\n",
      "88 Train accuracy: 0.97333336 Test accuracy: 0.9761\n",
      "89 Train accuracy: 0.9866667 Test accuracy: 0.9788\n",
      "90 Train accuracy: 1.0 Test accuracy: 0.9799\n",
      "91 Train accuracy: 1.0 Test accuracy: 0.9811\n",
      "92 Train accuracy: 0.99333334 Test accuracy: 0.9827\n",
      "93 Train accuracy: 0.99333334 Test accuracy: 0.9796\n",
      "94 Train accuracy: 0.99333334 Test accuracy: 0.9765\n",
      "95 Train accuracy: 1.0 Test accuracy: 0.9748\n",
      "96 Train accuracy: 1.0 Test accuracy: 0.9782\n",
      "97 Train accuracy: 1.0 Test accuracy: 0.9788\n",
      "98 Train accuracy: 0.99333334 Test accuracy: 0.9763\n",
      "99 Train accuracy: 0.9866667 Test accuracy: 0.9726\n"
     ]
    }
   ],
   "source": [
    "n_epochs = 100\n",
    "batch_size = 150\n",
    "\n",
    "with tf.Session() as sess:\n",
    "    init.run()\n",
    "    for epoch in range(n_epochs):\n",
    "        for iteration in range(mnist.train.num_examples // batch_size):\n",
    "            X_batch, y_batch = mnist.train.next_batch(batch_size)\n",
    "            X_batch = X_batch.reshape((-1, n_steps, n_inputs))\n",
    "            sess.run(training_op, feed_dict={X: X_batch, y: y_batch})\n",
    "        acc_train = accuracy.eval(feed_dict={X: X_batch, y: y_batch})\n",
    "        acc_test = accuracy.eval(feed_dict={X: X_test, y: y_test})\n",
    "        print(epoch, \"Train accuracy:\", acc_train, \"Test accuracy:\", acc_test)"
   ]
  },
  {
   "cell_type": "code",
   "execution_count": 7,
   "metadata": {},
   "outputs": [
    {
     "data": {
      "text/plain": [
       "(150, 28, 28)"
      ]
     },
     "execution_count": 7,
     "metadata": {},
     "output_type": "execute_result"
    }
   ],
   "source": [
    "X_batch.shape"
   ]
  },
  {
   "cell_type": "code",
   "execution_count": 10,
   "metadata": {},
   "outputs": [
    {
     "data": {
      "text/plain": [
       "(28, 28)"
      ]
     },
     "execution_count": 10,
     "metadata": {},
     "output_type": "execute_result"
    }
   ],
   "source": [
    "X_batch[0,:,:].shape"
   ]
  },
  {
   "cell_type": "code",
   "execution_count": null,
   "metadata": {
    "collapsed": true
   },
   "outputs": [],
   "source": []
  }
 ],
 "metadata": {
  "kernelspec": {
   "display_name": "Python 3",
   "language": "python",
   "name": "python3"
  },
  "language_info": {
   "codemirror_mode": {
    "name": "ipython",
    "version": 3
   },
   "file_extension": ".py",
   "mimetype": "text/x-python",
   "name": "python",
   "nbconvert_exporter": "python",
   "pygments_lexer": "ipython3",
   "version": "3.6.3"
  }
 },
 "nbformat": 4,
 "nbformat_minor": 2
}
